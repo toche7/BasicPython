{
 "cells": [
  {
   "cell_type": "markdown",
   "metadata": {},
   "source": [
    "<a href=\"https://colab.research.google.com/github/toche7/BasicPython/blob/main/01_HelloPython.ipynb\" target=\"_parent\"><img src=\"https://colab.research.google.com/assets/colab-badge.svg\" alt=\"Open In Colab\"/></a>"
   ]
  },
  {
   "cell_type": "markdown",
   "metadata": {
    "collapsed": false
   },
   "source": [
    "Notebook นี้พัฒนามาจาก <br>\n",
    "https://github.com/rajathkumarmp/Python-Lectures <br>\n",
    "https://gitlab.erc.monash.edu.au/andrease/Python4Maths/tree/master\n",
    "\n"
   ]
  },
  {
   "cell_type": "markdown",
   "metadata": {
    "collapsed": false
   },
   "source": [
    "# Lab 01: Hello Python\n",
    "\n"
   ]
  },
  {
   "cell_type": "markdown",
   "metadata": {
    "collapsed": false
   },
   "source": [
    "## Basic syntax for statements\n",
    "\n",
    "กฎพื้นฐานสำหรับการเขียนนิพจน์ง่ายๆใน Python คือ:\n",
    "\n",
    "- ไม่อนุญาตให้มีช่องว่าง แท็บที่จุดเริ่มต้นของคำสั่ง: การย่อหน้า \\(Indentation\\) มีความสำคัญใน Python ต้องตรวจสอบให้แน่ใจว่าข้อความทั้งหมดเริ่มต้นที่จุดเริ่มต้นของบรรทัด\n",
    "\n",
    "- อักขระ \"\\#\" ใช้สำหรับการ comment ข้อความที่อยู่ต่อจาก \\# ในบรรทัดนั้นจะไม่นำไปใช้ในการประมวลผล\n",
    "\n",
    "- การสิ้นสุดของนิพจน์ \\(statement\\) อยู่ที่ส่วนท้ายของบรรทัด แต่จะมีข้อยกเว้นเมื่อ\n",
    "  :\n",
    "  1. มีการใช้วงเล็บเปิด อย่างเช่น \n",
    "\n",
    "```python\n",
    "1+2\n",
    "+3  # จะไม่สามารถบวกได้เพราะขึ้นบรรทัดใหม่\n",
    "(1+2\n",
    "             + 3) # แต่ถ้ามีการใช้วงเล็บจะทำงานได้อย่างสมบูรณ์แม้จะมีการเว้นวรรค\n",
    "```\n",
    "\n",
    "2. สามารถใช้ \\\\ เมื่อต้องการต่อไปยังบรรทัดใหม่\n",
    "\n",
    "```python\n",
    "1 + \\\n",
    "        2 + 3 # แบบนี้ทำงานได้ตามปกติ\n",
    "```\n",
    "\n"
   ]
  },
  {
   "cell_type": "markdown",
   "metadata": {
    "collapsed": false
   },
   "source": [
    "# Variables\n",
    "\n"
   ]
  },
  {
   "cell_type": "markdown",
   "metadata": {
    "collapsed": false
   },
   "source": [
    "ชื่อที่ใช้แทนค่าบางอย่างในการเขียนโปรแกรม หรือเรียกว่าตัวแปร \\(Variables\\) ใน python สามารถประกาศตัวแปรและกำหนดค่าได้ดังนี้\n",
    "\n"
   ]
  },
  {
   "cell_type": "code",
   "execution_count": null,
   "metadata": {
    "collapsed": false,
    "metadata": {}
   },
   "outputs": [],
   "source": [
    "x = 2\n",
    "y = 5\n",
    "xy = 'Hey'"
   ]
  },
  {
   "cell_type": "code",
   "execution_count": null,
   "metadata": {
    "collapsed": false,
    "metadata": {}
   },
   "outputs": [],
   "source": [
    "print(x+y, xy)"
   ]
  },
  {
   "cell_type": "code",
   "execution_count": null,
   "metadata": {
    "collapsed": false
   },
   "outputs": [],
   "source": []
  },
  {
   "cell_type": "code",
   "execution_count": null,
   "metadata": {
    "collapsed": false
   },
   "outputs": [],
   "source": []
  },
  {
   "cell_type": "code",
   "execution_count": null,
   "metadata": {
    "collapsed": false
   },
   "outputs": [],
   "source": []
  },
  {
   "cell_type": "code",
   "execution_count": null,
   "metadata": {},
   "outputs": [],
   "source": []
  },
  {
   "cell_type": "markdown",
   "metadata": {
    "collapsed": false
   },
   "source": [
    "สามารถกำหนดตัวแปรหลายตัวด้วยค่าเดียวกัน"
   ]
  },
  {
   "cell_type": "code",
   "execution_count": null,
   "metadata": {
    "collapsed": false,
    "metadata": {}
   },
   "outputs": [],
   "source": [
    "x = y = 1"
   ]
  },
  {
   "cell_type": "code",
   "execution_count": null,
   "metadata": {
    "collapsed": false,
    "metadata": {}
   },
   "outputs": [],
   "source": [
    "print(x,y)"
   ]
  },
  {
   "cell_type": "code",
   "execution_count": null,
   "metadata": {
    "collapsed": false
   },
   "outputs": [],
   "source": []
  },
  {
   "cell_type": "code",
   "execution_count": null,
   "metadata": {
    "collapsed": false
   },
   "outputs": [],
   "source": []
  },
  {
   "cell_type": "markdown",
   "metadata": {},
   "source": [
    "## Basic Data Type"
   ]
  },
  {
   "cell_type": "markdown",
   "metadata": {},
   "source": [
    "* Interger"
   ]
  },
  {
   "cell_type": "code",
   "execution_count": null,
   "metadata": {},
   "outputs": [],
   "source": []
  },
  {
   "cell_type": "markdown",
   "metadata": {},
   "source": [
    "* Float"
   ]
  },
  {
   "cell_type": "code",
   "execution_count": null,
   "metadata": {},
   "outputs": [],
   "source": []
  },
  {
   "cell_type": "markdown",
   "metadata": {},
   "source": [
    "* String"
   ]
  },
  {
   "cell_type": "code",
   "execution_count": null,
   "metadata": {},
   "outputs": [],
   "source": []
  },
  {
   "cell_type": "markdown",
   "metadata": {},
   "source": [
    "* Boolean"
   ]
  },
  {
   "cell_type": "code",
   "execution_count": null,
   "metadata": {},
   "outputs": [],
   "source": []
  },
  {
   "cell_type": "markdown",
   "metadata": {
    "collapsed": false
   },
   "source": [
    "# Operators\n",
    "\n"
   ]
  },
  {
   "cell_type": "markdown",
   "metadata": {
    "collapsed": false
   },
   "source": [
    "## Arithmetic Operators\n",
    "\n"
   ]
  },
  {
   "cell_type": "markdown",
   "metadata": {
    "collapsed": false
   },
   "source": [
    "| Symbol | Task Performed |\n",
    "|----|---|\n",
    "| +  | Addition |\n",
    "| -  | Subtraction |\n",
    "| /  | division |\n",
    "| %  | mod |\n",
    "| *  | multiplication |\n",
    "| //  | floor division |\n",
    "| **  | to the power of |\n",
    "\n"
   ]
  },
  {
   "cell_type": "code",
   "execution_count": null,
   "metadata": {
    "collapsed": false
   },
   "outputs": [],
   "source": []
  },
  {
   "cell_type": "code",
   "execution_count": null,
   "metadata": {
    "collapsed": false
   },
   "outputs": [],
   "source": []
  },
  {
   "cell_type": "code",
   "execution_count": null,
   "metadata": {
    "collapsed": false
   },
   "outputs": [],
   "source": []
  },
  {
   "cell_type": "markdown",
   "metadata": {
    "collapsed": false
   },
   "source": [
    "## Relational Operators\n",
    "\n",
    "ในการดำเนินทางตรรกศาสตร์ เช่น ถ้าต้องการเปรียบเทียบว่าเท่ากันหรือไม่ มากกว่า น้อยกว่า ไม่เท่ากัน สามารถทำได้ดังกระบวนการด้านล่างนี้  "
   ]
  },
  {
   "cell_type": "markdown",
   "metadata": {
    "collapsed": false
   },
   "source": [
    "| Symbol | Task Performed |\n",
    "|----|---|\n",
    "| == | True, if it is equal |\n",
    "| !=  | True, if not equal to |\n",
    "| < | less than |\n",
    "| > | greater than |\n",
    "| <=  | less than or equal to |\n",
    "| >=  | greater than or equal to |\n",
    "\n",
    "การใช้เครื่องหมาย '=' จะเป็นการกำหนดค่า หากต้องการเปรียบเทียบการเท่ากันให้ใช้เป็น '==' \n",
    "\n"
   ]
  },
  {
   "cell_type": "code",
   "execution_count": null,
   "metadata": {
    "collapsed": false,
    "metadata": {}
   },
   "outputs": [],
   "source": [
    "z = 1"
   ]
  },
  {
   "cell_type": "code",
   "execution_count": null,
   "metadata": {
    "collapsed": false,
    "metadata": {}
   },
   "outputs": [],
   "source": [
    "z == 1"
   ]
  },
  {
   "cell_type": "code",
   "execution_count": null,
   "metadata": {
    "collapsed": false,
    "metadata": {}
   },
   "outputs": [],
   "source": [
    "z > 1"
   ]
  },
  {
   "cell_type": "markdown",
   "metadata": {
    "collapsed": false
   },
   "source": [
    "# Built-in Functions"
   ]
  },
  {
   "cell_type": "markdown",
   "metadata": {
    "collapsed": false
   },
   "source": [
    "Python มาพร้อมกับฟังก์ชันที่สร้างไว้ล่วงหน้า"
   ]
  },
  {
   "cell_type": "markdown",
   "metadata": {
    "collapsed": false
   },
   "source": [
    "## Simplifying Arithmetic Operations"
   ]
  },
  {
   "cell_type": "markdown",
   "metadata": {
    "collapsed": false
   },
   "source": [
    "**round( )**  ฟังก์ชันจะปัดเศษค่าอินพุตเป็นจำนวนตำแหน่งที่ระบุหรือเป็นจำนวนเต็มที่ใกล้เคียงที่สุด"
   ]
  },
  {
   "cell_type": "code",
   "execution_count": null,
   "metadata": {
    "collapsed": false,
    "metadata": {}
   },
   "outputs": [],
   "source": [
    "print (round(5.6231)) \n",
    "print (round(4.55892, 2))"
   ]
  },
  {
   "cell_type": "code",
   "execution_count": null,
   "metadata": {
    "collapsed": false
   },
   "outputs": [],
   "source": []
  },
  {
   "cell_type": "code",
   "execution_count": null,
   "metadata": {
    "collapsed": false
   },
   "outputs": [],
   "source": []
  },
  {
   "cell_type": "markdown",
   "metadata": {
    "collapsed": false
   },
   "source": [
    "**divmod(x, y)** แสดงผลผลหารและส่วนที่เหลือในทูเปิล (ผู้เรียนจะได้เรียนรู้เกี่ยวกับเรื่องนี้ในบทต่อไป) ในรูปแบบ (ผลหารเศษ และ เหลือ)"
   ]
  },
  {
   "cell_type": "code",
   "execution_count": null,
   "metadata": {
    "collapsed": false,
    "metadata": {},
    "scrolled": true
   },
   "outputs": [],
   "source": [
    "divmod(9,2)"
   ]
  },
  {
   "cell_type": "code",
   "execution_count": null,
   "metadata": {
    "collapsed": false
   },
   "outputs": [],
   "source": []
  },
  {
   "cell_type": "code",
   "execution_count": null,
   "metadata": {
    "collapsed": false
   },
   "outputs": [],
   "source": []
  },
  {
   "cell_type": "code",
   "execution_count": null,
   "metadata": {
    "collapsed": false
   },
   "outputs": [],
   "source": []
  },
  {
   "cell_type": "markdown",
   "metadata": {
    "collapsed": false
   },
   "source": [
    "**pow (x, y, z)** สามารถใช้เพื่อค้นหาค่ากำลัง $x^y$ และยังสามารถหาค่า mod ของค่าผลลัพธ์ที่มีหมายเลขระบุที่สามได้เช่น: ($ x^y$% z) ."
   ]
  },
  {
   "cell_type": "code",
   "execution_count": null,
   "metadata": {
    "collapsed": false,
    "metadata": {}
   },
   "outputs": [],
   "source": [
    "print(pow(3,3))\n",
    "print(pow(3,3,5))"
   ]
  },
  {
   "cell_type": "code",
   "execution_count": null,
   "metadata": {
    "collapsed": false
   },
   "outputs": [],
   "source": []
  },
  {
   "cell_type": "code",
   "execution_count": null,
   "metadata": {
    "collapsed": false
   },
   "outputs": [],
   "source": []
  },
  {
   "cell_type": "code",
   "execution_count": null,
   "metadata": {
    "collapsed": false
   },
   "outputs": [],
   "source": []
  },
  {
   "cell_type": "markdown",
   "metadata": {
    "collapsed": false
   },
   "source": [
    "ฟังก์ชัน **range()** แสดงผลจำนวนเต็มของช่วงที่ระบุ นอกจากนี้ยังสามารถใช้เพื่อสร้างชุดข้อมูลโดยระบุความแตกต่างระหว่างตัวเลขสองตัวภายในช่วงที่ระบุนั้น\n",
    "\n"
   ]
  },
  {
   "cell_type": "code",
   "execution_count": null,
   "metadata": {
    "collapsed": false,
    "metadata": {}
   },
   "outputs": [],
   "source": [
    "print(range(3))\n",
    "print(range(2,9))\n",
    "print(range(2,27,8))"
   ]
  },
  {
   "cell_type": "code",
   "execution_count": null,
   "metadata": {
    "collapsed": false,
    "metadata": {}
   },
   "outputs": [],
   "source": [
    "x = range(2, 27, 8)\n",
    "for n in x:\n",
    "  print(n)"
   ]
  },
  {
   "cell_type": "code",
   "execution_count": null,
   "metadata": {
    "collapsed": false,
    "metadata": {}
   },
   "outputs": [],
   "source": [
    "a = range(2,27,8)\n",
    "type(a)"
   ]
  },
  {
   "cell_type": "markdown",
   "metadata": {
    "collapsed": false
   },
   "source": [
    "โปรดสังเกตว่า type () ส่งกลับรูปแบบหรือประเภทของตัวแปรหรือตัวเลข"
   ]
  },
  {
   "cell_type": "code",
   "execution_count": null,
   "metadata": {
    "collapsed": false
   },
   "outputs": [],
   "source": []
  },
  {
   "cell_type": "code",
   "execution_count": null,
   "metadata": {
    "collapsed": false
   },
   "outputs": [],
   "source": []
  },
  {
   "cell_type": "code",
   "execution_count": null,
   "metadata": {
    "collapsed": false
   },
   "outputs": [],
   "source": []
  },
  {
   "cell_type": "markdown",
   "metadata": {
    "collapsed": false
   },
   "source": [
    "## Accepting User Inputs\n",
    "\n"
   ]
  },
  {
   "cell_type": "markdown",
   "metadata": {
    "collapsed": false
   },
   "source": [
    "**input()** รับอินพุตและจัดเก็บเป็นสตริง ดังนั้นหากผู้ใช้ป้อนจำนวนเต็มรหัสควรแปลงสตริงเป็นจำนวนเต็มแล้วดำเนินการต่อ\n",
    "\n"
   ]
  },
  {
   "cell_type": "code",
   "execution_count": null,
   "metadata": {
    "cocalc": {
     "outputs": {
      "0": {
       "name": "input",
       "opts": {
        "password": false,
        "prompt": "Type something here and it will be stored in variable abc \t"
       },
       "output_type": "stream",
       "value": "11"
      }
     }
    },
    "collapsed": false,
    "metadata": {}
   },
   "outputs": [],
   "source": [
    "abc = input(\"Type something here and it will be stored in variable abc \\t\")"
   ]
  },
  {
   "cell_type": "code",
   "execution_count": null,
   "metadata": {
    "collapsed": false,
    "metadata": {}
   },
   "outputs": [],
   "source": [
    "type(abc)"
   ]
  },
  {
   "cell_type": "code",
   "execution_count": null,
   "metadata": {
    "collapsed": false
   },
   "outputs": [],
   "source": []
  },
  {
   "cell_type": "code",
   "execution_count": null,
   "metadata": {
    "collapsed": false
   },
   "outputs": [],
   "source": []
  },
  {
   "cell_type": "markdown",
   "metadata": {
    "collapsed": false
   },
   "source": [
    "***"
   ]
  },
  {
   "cell_type": "markdown",
   "metadata": {
    "collapsed": false
   },
   "source": [
    "## Exercise\n",
    "\n",
    "### Ex 1 \n",
    "\n",
    "จงเขียนโปรแกรมเพื่อให้เก็บค่า <br> \n",
    "\n",
    "- a = 'Hello ' \n",
    "- b = 'Python '\n",
    "- c = '3' <br>\n",
    "\n",
    "และนำค่าทั้ง 3 มาต่อกันและเก็บไว้ในตัวแปร d แล้วแสดงค่าออกมา \n",
    "\n",
    "Note: ให้ comment หรือ ลบ บรรทัดที่เขียนว่า \"raise NotImplementedError\\(\\)\" เพราะใช้ตรวจจับว่ามีการทำการบ้านแล้วหรือยัง\n",
    "\n"
   ]
  },
  {
   "cell_type": "code",
   "execution_count": null,
   "metadata": {},
   "outputs": [],
   "source": []
  },
  {
   "cell_type": "markdown",
   "metadata": {
    "collapsed": false
   },
   "source": [
    "### Ex 2\n",
    "\n",
    "จงเขียนโปรแกรมเพื่อคำนวณหาพื้นที่ของวงกลมที่มีรัศมีเป็น r  โดยสูตรการคำนวณพื้นวงกลมมีค่าเท่ากับ $\\pi r^2 $ \n",
    "\n"
   ]
  },
  {
   "cell_type": "code",
   "execution_count": null,
   "metadata": {
    "collapsed": false
   },
   "outputs": [],
   "source": []
  }
 ],
 "metadata": {
  "kernelspec": {
   "argv": [
    "/usr/bin/python3",
    "-m",
    "ipykernel",
    "--HistoryManager.enabled=False",
    "--matplotlib=inline",
    "-c",
    "%config InlineBackend.figure_formats = set(['retina'])\nimport matplotlib; matplotlib.rcParams['figure.figsize'] = (12, 7)",
    "-f",
    "{connection_file}"
   ],
   "display_name": "Python 3 (system-wide)",
   "env": {},
   "language": "python",
   "metadata": {
    "cocalc": {
     "description": "Python 3 programming language",
     "priority": 100,
     "url": "https://www.python.org/"
    }
   },
   "name": "python3",
   "resource_dir": "/ext/jupyter/kernels/python3"
  },
  "language_info": {
   "codemirror_mode": {
    "name": "ipython",
    "version": 3
   },
   "file_extension": ".py",
   "mimetype": "text/x-python",
   "name": "python",
   "nbconvert_exporter": "python",
   "pygments_lexer": "ipython3",
   "version": "3.11.8"
  },
  "nbgrader": {
   "__altered": false,
   "__hash": 578871179,
   "_root": {
    "entries": [
     [
      "size",
      6
     ],
     [
      "_root",
      {
       "entries": [
        [
         "size",
         6
        ],
        [
         "_root",
         {
          "entries": [
           [
            "size",
            5
           ],
           [
            "_root",
            {
             "entries": [
              [
               "__altered",
               false
              ],
              [
               "__hash",
               -156064896
              ],
              [
               "_root",
               {
                "entries": [
                 [
                  "size",
                  5
                 ],
                 [
                  "_root",
                  {
                   "entries": [
                    [
                     "size",
                     5
                    ],
                    [
                     "_root",
                     {
                      "entries": [
                       [
                        "__altered",
                        false
                       ],
                       [
                        "__hash",
                        -165097349
                       ],
                       [
                        "_root",
                        {
                         "entries": [
                          [
                           "size",
                           6
                          ],
                          [
                           "_root",
                           {
                            "entries": [
                             [
                              "size",
                              5
                             ],
                             [
                              "_root",
                              {
                               "entries": [
                                [
                                 "size",
                                 5
                                ],
                                [
                                 "_root",
                                 {
                                  "entries": [
                                   [
                                    "__altered",
                                    false
                                   ],
                                   [
                                    "__hash",
                                    -341060574
                                   ],
                                   [
                                    "_root",
                                    {
                                     "entries": [
                                      [
                                       "size",
                                       6
                                      ],
                                      [
                                       "_root",
                                       {
                                        "entries": [
                                         [
                                          "size",
                                          1
                                         ],
                                         [
                                          "_root",
                                          {
                                           "entries": [
                                            [
                                             "cocalc_minimal_stubs",
                                             false
                                            ]
                                           ],
                                           "ownerID": {}
                                          }
                                         ],
                                         [
                                          "__ownerID",
                                          null
                                         ],
                                         [
                                          "__hash",
                                          -335098374
                                         ],
                                         [
                                          "__altered",
                                          false
                                         ],
                                         [
                                          "cocalc_minimal_stubs",
                                          false
                                         ]
                                        ],
                                        "ownerID": {}
                                       }
                                      ],
                                      [
                                       "__ownerID",
                                       null
                                      ],
                                      [
                                       "__hash",
                                       633336276
                                      ],
                                      [
                                       "__altered",
                                       false
                                      ],
                                      [
                                       "cocalc_minimal_stubs",
                                       false
                                      ]
                                     ],
                                     "ownerID": {}
                                    }
                                   ],
                                   [
                                    "cocalc_minimal_stubs",
                                    false
                                   ],
                                   [
                                    "size",
                                    6
                                   ]
                                  ],
                                  "ownerID": {}
                                 }
                                ],
                                [
                                 "__hash",
                                 1042868955
                                ],
                                [
                                 "__altered",
                                 false
                                ],
                                [
                                 "cocalc_minimal_stubs",
                                 false
                                ]
                               ],
                               "ownerID": {}
                              }
                             ],
                             [
                              "__ownerID",
                              null
                             ],
                             [
                              "__hash",
                              -20667103
                             ],
                             [
                              "__altered",
                              false
                             ],
                             [
                              "cocalc_minimal_stubs",
                              false
                             ]
                            ],
                            "ownerID": {}
                           }
                          ],
                          [
                           "__ownerID",
                           null
                          ],
                          [
                           "__hash",
                           472793920
                          ],
                          [
                           "__altered",
                           false
                          ],
                          [
                           "cocalc_minimal_stubs",
                           false
                          ]
                         ],
                         "ownerID": {}
                        }
                       ],
                       [
                        "cocalc_minimal_stubs",
                        false
                       ],
                       [
                        "size",
                        6
                       ]
                      ],
                      "ownerID": {}
                     }
                    ],
                    [
                     "__hash",
                     625688165
                    ],
                    [
                     "__altered",
                     false
                    ],
                    [
                     "cocalc_minimal_stubs",
                     false
                    ]
                   ],
                   "ownerID": {}
                  }
                 ],
                 [
                  "__hash",
                  -653258760
                 ],
                 [
                  "__altered",
                  false
                 ],
                 [
                  "cocalc_minimal_stubs",
                  false
                 ]
                ],
                "ownerID": {}
               }
              ],
              [
               "cocalc_minimal_stubs",
               false
              ],
              [
               "size",
               5
              ]
             ],
             "ownerID": {}
            }
           ],
           [
            "__ownerID",
            null
           ],
           [
            "__hash",
            -121256439
           ],
           [
            "__altered",
            false
           ],
           [
            "cocalc_minimal_stubs",
            false
           ]
          ],
          "ownerID": {}
         }
        ],
        [
         "__ownerID",
         null
        ],
        [
         "__hash",
         -684120789
        ],
        [
         "__altered",
         false
        ],
        [
         "cocalc_minimal_stubs",
         false
        ]
       ],
       "ownerID": {}
      }
     ],
     [
      "__hash",
      -536990315
     ],
     [
      "__altered",
      false
     ],
     [
      "cocalc_minimal_stubs",
      false
     ]
    ],
    "ownerID": {}
   },
   "cocalc_minimal_stubs": false,
   "size": 5
  }
 },
 "nbformat": 4,
 "nbformat_minor": 4
}
