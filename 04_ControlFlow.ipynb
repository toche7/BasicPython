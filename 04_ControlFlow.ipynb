{
 "cells": [
  {
   "cell_type": "markdown",
   "metadata": {},
   "source": [
    "<a href=\"https://colab.research.google.com/github/toche7/BasicPython/blob/main/04_ControlFlow.ipynb\" target=\"_parent\"><img src=\"https://colab.research.google.com/assets/colab-badge.svg\" alt=\"Open In Colab\"/></a>"
   ]
  },
  {
   "cell_type": "markdown",
   "metadata": {
    "collapsed": false
   },
   "source": [
    "# Lab 04: Control Flow Statements\n",
    "\n",
    "Version: 05 <br>\n",
    "Date: May 9, 2024\n"
   ]
  },
  {
   "cell_type": "markdown",
   "metadata": {
    "collapsed": false
   },
   "source": [
    "## If\n",
    "\n"
   ]
  },
  {
   "cell_type": "markdown",
   "metadata": {
    "collapsed": false
   },
   "source": [
    "ลักษณะโครงสร้างของการใช้ if เป็นดังนี้\n",
    "\n",
    "```\n",
    "if some_condition:\n",
    "    algorithm\n",
    "```\n",
    "\n",
    "ให้สังเกตว่าหลัง some\\_condition จะตามด้วย colon \\( : \\)\n",
    "\n"
   ]
  },
  {
   "cell_type": "code",
   "execution_count": null,
   "metadata": {
    "collapsed": false
   },
   "outputs": [],
   "source": [
    "x = 12\n",
    "if x >10:\n",
    "    print(\"Hello\")"
   ]
  },
  {
   "cell_type": "markdown",
   "metadata": {
    "collapsed": false
   },
   "source": [
    "<span style='color:#03a9f4'>เขียนโปรแกรมสั่งปริ้นชื่อ 5 ครั้ง</span><span style='color:#03a9f4'><span style='color:#3f51b5'> </span></span>\n"
   ]
  },
  {
   "cell_type": "code",
   "execution_count": null,
   "metadata": {
    "collapsed": false
   },
   "outputs": [],
   "source": []
  },
  {
   "cell_type": "code",
   "execution_count": null,
   "metadata": {
    "collapsed": false
   },
   "outputs": [],
   "source": []
  },
  {
   "cell_type": "code",
   "execution_count": null,
   "metadata": {
    "collapsed": false
   },
   "outputs": [],
   "source": []
  },
  {
   "cell_type": "code",
   "execution_count": null,
   "metadata": {
    "collapsed": false
   },
   "outputs": [],
   "source": []
  },
  {
   "cell_type": "markdown",
   "metadata": {
    "collapsed": false
   },
   "source": [
    "## If\\-else\n",
    "\n"
   ]
  },
  {
   "cell_type": "markdown",
   "metadata": {
    "collapsed": false
   },
   "source": [
    "``` \n",
    "if some_condition:\n",
    "\n",
    "    algorithm\n",
    "\n",
    "else:\n",
    "\n",
    "    algorithm\n",
    "```\n"
   ]
  },
  {
   "cell_type": "code",
   "execution_count": null,
   "metadata": {
    "collapsed": false
   },
   "outputs": [],
   "source": [
    "x = 12\n",
    "if x > 10:\n",
    "    print(\"hello\")\n",
    "else:\n",
    "    print(\"world\")"
   ]
  },
  {
   "cell_type": "markdown",
   "metadata": {
    "collapsed": false
   },
   "source": [
    "<span style='color:#03a9f4'>เขียนโปรแกรมเพื่อตรวจสอบคุณสมบัติมีสิทธิเลือกตั้ง จากอายุ</span>\n"
   ]
  },
  {
   "cell_type": "code",
   "execution_count": null,
   "metadata": {
    "collapsed": false
   },
   "outputs": [],
   "source": []
  },
  {
   "cell_type": "code",
   "execution_count": null,
   "metadata": {
    "collapsed": false
   },
   "outputs": [],
   "source": []
  },
  {
   "cell_type": "code",
   "execution_count": null,
   "metadata": {
    "collapsed": false
   },
   "outputs": [],
   "source": []
  },
  {
   "cell_type": "markdown",
   "metadata": {
    "collapsed": false
   },
   "source": [
    "## if\\-elif\n",
    "\n"
   ]
  },
  {
   "cell_type": "markdown",
   "metadata": {
    "collapsed": false
   },
   "source": [
    "```\n",
    "if some_condition:\n",
    "\n",
    "    algorithm\n",
    "\n",
    "elif some_condition:\n",
    "\n",
    "    algorithm\n",
    "\n",
    "else:\n",
    "\n",
    "    algorithm\n",
    "```\n"
   ]
  },
  {
   "cell_type": "code",
   "execution_count": null,
   "metadata": {
    "collapsed": false
   },
   "outputs": [],
   "source": [
    "x = 10\n",
    "y = 12\n",
    "if x > y:\n",
    "    print(\"x>y\")\n",
    "elif x < y:\n",
    "    print(\"x<y\")\n",
    "else:\n",
    "    print(\"x=y\")"
   ]
  },
  {
   "cell_type": "markdown",
   "metadata": {
    "collapsed": false
   },
   "source": [
    "ชุดคำสั่ง if ที่อยู่ภายใน ชุดคำสั่ง if\\-elif หรือ if \\-else จะถูกเรียกว่า \"nested if statements\"\n"
   ]
  },
  {
   "cell_type": "code",
   "execution_count": null,
   "metadata": {
    "collapsed": false
   },
   "outputs": [],
   "source": [
    "x = 10\n",
    "y = 12\n",
    "if x > y:\n",
    "    print(\"x>y\")\n",
    "elif x < y:\n",
    "    print(\"x<y\")\n",
    "    if x==10:\n",
    "        print(\"x=10\")\n",
    "    else:\n",
    "        print(\"invalid\")\n",
    "else:\n",
    "    print (\"x=y\")"
   ]
  },
  {
   "cell_type": "markdown",
   "metadata": {
    "collapsed": false
   },
   "source": [
    "<span style='color:#03a9f4'>เขียนโปรแกรม เพื่อขัดแยกระดับคุณภาพอาการเป็น อันตราย พอใช้ ดี จากค่า ​Pm2.5</span>\n"
   ]
  },
  {
   "cell_type": "code",
   "execution_count": null,
   "metadata": {
    "collapsed": false
   },
   "outputs": [],
   "source": []
  },
  {
   "cell_type": "code",
   "execution_count": null,
   "metadata": {
    "collapsed": false
   },
   "outputs": [],
   "source": []
  },
  {
   "cell_type": "code",
   "execution_count": null,
   "metadata": {
    "collapsed": false
   },
   "outputs": [],
   "source": []
  },
  {
   "cell_type": "code",
   "execution_count": null,
   "metadata": {
    "collapsed": false
   },
   "outputs": [],
   "source": []
  },
  {
   "cell_type": "markdown",
   "metadata": {
    "collapsed": false
   },
   "source": [
    "## Loops\n",
    "\n"
   ]
  },
  {
   "cell_type": "markdown",
   "metadata": {
    "collapsed": false
   },
   "source": [
    "### For\n",
    "\n"
   ]
  },
  {
   "cell_type": "markdown",
   "metadata": {
    "collapsed": false
   },
   "source": [
    "``` \n",
    "for variable in something:\n",
    "    \n",
    "    algorithm"
   ]
  },
  {
   "cell_type": "code",
   "execution_count": null,
   "metadata": {
    "collapsed": false
   },
   "outputs": [],
   "source": [
    "for i in range(5):\n",
    "    print(i)"
   ]
  },
  {
   "cell_type": "markdown",
   "metadata": {
    "collapsed": false
   },
   "source": [
    "<span style='color:#03a9f4'>จงเขียนโปรแกรมเพื่อบวกเลข 1\\-10</span>\n"
   ]
  },
  {
   "cell_type": "code",
   "execution_count": null,
   "metadata": {
    "collapsed": false
   },
   "outputs": [],
   "source": []
  },
  {
   "cell_type": "code",
   "execution_count": null,
   "metadata": {
    "collapsed": false
   },
   "outputs": [],
   "source": []
  },
  {
   "cell_type": "code",
   "execution_count": null,
   "metadata": {
    "collapsed": false
   },
   "outputs": [],
   "source": []
  },
  {
   "cell_type": "code",
   "execution_count": null,
   "metadata": {
    "collapsed": false
   },
   "outputs": [],
   "source": []
  },
  {
   "cell_type": "markdown",
   "metadata": {
    "collapsed": false
   },
   "source": [
    "### While\n",
    "\n"
   ]
  },
  {
   "cell_type": "markdown",
   "metadata": {
    "collapsed": false
   },
   "source": [
    "วิธีการการใช้งาน while loop เป็นดังนี้\n",
    "\n",
    "```\n",
    "while some_condition:\n",
    "\n",
    "    algorithm\n",
    "\n"
   ]
  },
  {
   "cell_type": "code",
   "execution_count": null,
   "metadata": {
    "collapsed": false
   },
   "outputs": [],
   "source": [
    "i = 1\n",
    "while i < 3:\n",
    "    print(i ** 2)\n",
    "    i = i+1\n",
    "print('Bye')"
   ]
  },
  {
   "cell_type": "markdown",
   "metadata": {
    "collapsed": false
   },
   "source": [
    "<span style='color:#03a9f4'>จงเขียนโปรเพื่อตรวจสอบคุณภาพอากาศหาก เป็นระดับ ระวัง ให้ปริ้นข้อความเตือนออกมา หากอยู่ในระดับดีไม่ต้องปริ้นอะไรออกมา </span>\n",
    "\n",
    "use function  \"input\\( \\)\" to get the input value.\n"
   ]
  },
  {
   "cell_type": "code",
   "execution_count": null,
   "metadata": {
    "collapsed": false
   },
   "outputs": [],
   "source": []
  },
  {
   "cell_type": "code",
   "execution_count": null,
   "metadata": {
    "collapsed": false
   },
   "outputs": [],
   "source": []
  },
  {
   "cell_type": "code",
   "execution_count": null,
   "metadata": {
    "collapsed": false
   },
   "outputs": [],
   "source": []
  },
  {
   "cell_type": "code",
   "execution_count": null,
   "metadata": {
    "collapsed": false
   },
   "outputs": [],
   "source": []
  },
  {
   "cell_type": "markdown",
   "metadata": {
    "collapsed": false
   },
   "source": [
    "## Break\n",
    "\n"
   ]
  },
  {
   "cell_type": "markdown",
   "metadata": {
    "collapsed": false
   },
   "source": [
    "คำสั่ง Break จะใช้ในการหยุดการทำงานที่อยู่ภายใน loop และจะหลุดออกมาจาก loop \n",
    "\n"
   ]
  },
  {
   "cell_type": "code",
   "execution_count": null,
   "metadata": {
    "collapsed": false
   },
   "outputs": [],
   "source": [
    "for i in range(100):\n",
    "    print (i)\n",
    "    if i>=7:\n",
    "        break"
   ]
  },
  {
   "cell_type": "markdown",
   "metadata": {
    "collapsed": false
   },
   "source": [
    "<span style='color:#03a9f4'>จงเขียนโปรเพื่อตรวจสอบการรับค่า keyboard  จำนวน 10 รอบ หากมีการรับค่า key  = 'y' ให้ทำหลุดออกมาจากลูป</span> \n"
   ]
  },
  {
   "cell_type": "code",
   "execution_count": null,
   "metadata": {
    "collapsed": false
   },
   "outputs": [],
   "source": []
  },
  {
   "cell_type": "code",
   "execution_count": null,
   "metadata": {
    "collapsed": false
   },
   "outputs": [],
   "source": []
  },
  {
   "cell_type": "code",
   "execution_count": null,
   "metadata": {
    "collapsed": false
   },
   "outputs": [],
   "source": []
  },
  {
   "cell_type": "markdown",
   "metadata": {
    "collapsed": false
   },
   "source": [
    "## Continue"
   ]
  },
  {
   "cell_type": "markdown",
   "metadata": {
    "collapsed": false
   },
   "source": [
    "คำสั่ง continue จะทำให้เกิดการข้ามคำสั่งส่วนที่เหลือภายใน loop นั้นกลับไปทำงานในรอบใหม่  โดยคำสั่งนี้จะใช้ได้ทั้ง while และ for เช่นเดียวกับคำสั่ง break\n"
   ]
  },
  {
   "cell_type": "code",
   "execution_count": null,
   "metadata": {
    "collapsed": false
   },
   "outputs": [],
   "source": [
    "for i in range(10):\n",
    "    if i>4:\n",
    "        print(\"Ignored\",i)\n",
    "        continue\n",
    "    # this statement is not reach if i > 4\n",
    "    print(\"Processed\",i)"
   ]
  },
  {
   "cell_type": "markdown",
   "metadata": {
    "collapsed": false
   },
   "source": [
    "<span style='color:#03a9f4'>จงเขียนโปรเพื่อตรวจสอบการรับค่า keyboard  จำนวน 3 รอบ หากมีการรับค่า password  = 'mypass' ถูกต้องจะแสดงค่าว่า  \"start the system\", หากยังไม่ถูกให้กลับไปรับถ้าค่าใหม่ แต่ถ้าเกิน  3 ครั้งให้แสดงคำว่า \"Your account is locked, bye bye\"</span>\n"
   ]
  },
  {
   "cell_type": "code",
   "execution_count": null,
   "metadata": {
    "cocalc": {
     "outputs": {
      "1": {
       "name": "input",
       "opts": {
        "password": false,
        "prompt": "input the password"
       },
       "output_type": "stream",
       "value": "234"
      },
      "2": {
       "name": "input",
       "opts": {
        "password": false,
        "prompt": "input the password"
       },
       "output_type": "stream"
      },
      "5": {
       "name": "input",
       "opts": {
        "password": false,
        "prompt": "input the password"
       },
       "output_type": "stream",
       "value": "mypass"
      }
     }
    },
    "collapsed": false
   },
   "outputs": [],
   "source": []
  },
  {
   "cell_type": "code",
   "execution_count": null,
   "metadata": {
    "collapsed": false
   },
   "outputs": [],
   "source": []
  },
  {
   "cell_type": "code",
   "execution_count": null,
   "metadata": {
    "collapsed": false
   },
   "outputs": [],
   "source": []
  },
  {
   "cell_type": "markdown",
   "metadata": {
    "collapsed": false
   },
   "source": [
    "## Exercise\n",
    "\n"
   ]
  },
  {
   "cell_type": "code",
   "execution_count": null,
   "metadata": {
    "collapsed": false
   },
   "outputs": [],
   "source": [
    "# for colab please uncomment the following command\n",
    "#!pip install nose"
   ]
  },
  {
   "cell_type": "markdown",
   "metadata": {
    "collapsed": false
   },
   "source": [
    "## Ex 1\n",
    "\n",
    "จงเขียนโปรแกรมเพื่อตัดเกรดให้กับวิชา Basic Programing  โดยมีเงื่อนไขว่า ถ้าได้คะแนนตั้ง 80  ขึ้นไปจะได้เกรด A ถ้าต่ำกว่า 80 จะได้เกรด B\n"
   ]
  },
  {
   "cell_type": "code",
   "execution_count": 1,
   "metadata": {
    "collapsed": false,
    "metadata": {},
    "nbgrader": {
     "grade": false,
     "grade_id": "aa4de8",
     "locked": false,
     "schema_version": 3,
     "solution": true,
     "task": false
    }
   },
   "outputs": [],
   "source": [
    "def exercise1(score = 70):\n",
    "    '''\n",
    "    score : raw score \n",
    "    grade : grade that compute form score \n",
    "    score_A: mine score of Grade A\n",
    "    '''\n",
    "    score_A = 80\n",
    "    grade   = 'B'\n",
    "    ### Your code here\n",
    "    \n",
    "\n",
    "    return grade, score\n",
    "    "
   ]
  },
  {
   "cell_type": "code",
   "execution_count": 2,
   "metadata": {
    "collapsed": false,
    "metadata": {},
    "nbgrader": {
     "grade": true,
     "grade_id": "073cc7",
     "locked": true,
     "points": 1,
     "schema_version": 3,
     "solution": false,
     "task": false
    }
   },
   "outputs": [
    {
     "name": "stdout",
     "output_type": "stream",
     "text": [
      "Grade A for score 80\n"
     ]
    }
   ],
   "source": [
    "# [Modify the tests below for your own problem]\n",
    "# Check that squares returns the correct output for several inputs:\n",
    "from nose.tools import assert_equal\n",
    "assert_equal(exercise1(), ('B',70))\n",
    "assert_equal(exercise1(80), ('A',80))\n",
    "print(\"Grade %s for score %d\" %exercise1(80))"
   ]
  },
  {
   "cell_type": "markdown",
   "metadata": {
    "collapsed": false
   },
   "source": [
    "### Ex 2\n",
    "\n",
    "จาก Ex1 หากต้องการให้เกรดครบทั้ง A B C D โดยมีระดับคะแนนสำหรับเกรดคือ 80 70 60 50 ตามลำดับ หากได้คะแนนต่ำกว่า 50 จะได้เกรด E จงเขียนโปรแกรมทีสามารถให้ครบทั้ง 5 ระดับ\n"
   ]
  },
  {
   "cell_type": "code",
   "execution_count": 3,
   "metadata": {
    "collapsed": false,
    "metadata": {},
    "nbgrader": {
     "grade": false,
     "grade_id": "413878",
     "locked": false,
     "schema_version": 3,
     "solution": true,
     "task": false
    }
   },
   "outputs": [],
   "source": [
    "def grading(score = 70):\n",
    "    '''\n",
    "    score : raw score \n",
    "    grade : grade that compute form score \n",
    "    score_A: mine score of Grade A\n",
    "    '''\n",
    "    score_A = 80\n",
    "    score_B = 70\n",
    "    score_C = 60\n",
    "    score_D = 50\n",
    "    grade   = 'E'\n",
    "    ## Your Code Here\n",
    "\n",
    "    return grade, score"
   ]
  },
  {
   "cell_type": "code",
   "execution_count": null,
   "metadata": {
    "collapsed": false
   },
   "outputs": [],
   "source": [
    "grading(55)"
   ]
  },
  {
   "cell_type": "code",
   "execution_count": 4,
   "metadata": {
    "collapsed": false,
    "metadata": {},
    "nbgrader": {
     "grade": true,
     "grade_id": "efb8c5",
     "locked": true,
     "points": 1,
     "schema_version": 3,
     "solution": false,
     "task": false
    }
   },
   "outputs": [
    {
     "name": "stdout",
     "output_type": "stream",
     "text": [
      "Grade A for score 85\n"
     ]
    }
   ],
   "source": [
    "# [Modify the tests below for your own problem]\n",
    "# Check that squares returns the correct output for several inputs:\n",
    "from nose.tools import assert_equal\n",
    "assert_equal(grading(40), ('E',40))\n",
    "assert_equal(grading(55), ('D',55))\n",
    "assert_equal(grading(65), ('C',65))\n",
    "assert_equal(grading(75), ('B',75))\n",
    "assert_equal(grading(85), ('A',85))\n",
    "print(\"Grade %s for score %d\" %grading(85))"
   ]
  },
  {
   "cell_type": "code",
   "execution_count": null,
   "metadata": {
    "collapsed": false
   },
   "outputs": [],
   "source": []
  }
 ],
 "metadata": {
  "kernelspec": {
   "argv": [
    "/usr/bin/python3",
    "-m",
    "ipykernel",
    "--HistoryManager.enabled=False",
    "--matplotlib=inline",
    "-c",
    "%config InlineBackend.figure_formats = set(['retina'])\nimport matplotlib; matplotlib.rcParams['figure.figsize'] = (12, 7)",
    "-f",
    "{connection_file}"
   ],
   "display_name": "Python 3 (system-wide)",
   "env": {},
   "language": "python",
   "metadata": {
    "cocalc": {
     "description": "Python 3 programming language",
     "priority": 100,
     "url": "https://www.python.org/"
    }
   },
   "name": "python3",
   "resource_dir": "/ext/jupyter/kernels/python3"
  },
  "language_info": {
   "codemirror_mode": {
    "name": "ipython",
    "version": 3
   },
   "file_extension": ".py",
   "mimetype": "text/x-python",
   "name": "python",
   "nbconvert_exporter": "python",
   "pygments_lexer": "ipython3",
   "version": "3.11.8"
  },
  "nbgrader": {
   "__altered": false,
   "__hash": -263329509,
   "_root": {
    "entries": [
     [
      "__altered",
      false
     ],
     [
      "__hash",
      213832153
     ],
     [
      "_root",
      {
       "entries": [
        [
         "size",
         5
        ],
        [
         "_root",
         {
          "entries": [
           [
            "size",
            1
           ],
           [
            "_root",
            {
             "entries": [
              [
               "cocalc_minimal_stubs",
               false
              ]
             ],
             "ownerID": {}
            }
           ],
           [
            "__hash",
            -335098374
           ],
           [
            "__altered",
            false
           ],
           [
            "cocalc_minimal_stubs",
            false
           ]
          ],
          "ownerID": {}
         }
        ],
        [
         "__ownerID",
         null
        ],
        [
         "__hash",
         1043241747
        ],
        [
         "__altered",
         false
        ],
        [
         "cocalc_minimal_stubs",
         false
        ]
       ],
       "ownerID": {}
      }
     ],
     [
      "cocalc_minimal_stubs",
      false
     ],
     [
      "size",
      6
     ]
    ],
    "ownerID": {}
   },
   "cocalc_minimal_stubs": false,
   "size": 5
  }
 },
 "nbformat": 4,
 "nbformat_minor": 4
}
