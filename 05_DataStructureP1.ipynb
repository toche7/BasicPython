{
 "cells": [
  {
   "cell_type": "markdown",
   "metadata": {
    "collapsed": false
   },
   "source": [
    "# Lab 05: Data Struct Part 1\n",
    "\n"
   ]
  },
  {
   "cell_type": "markdown",
   "metadata": {
    "collapsed": false
   },
   "source": [
    "Version 2\n",
    "\n",
    "Notebook นี้พัฒนามาจาก <br>\n",
    "[https://github.com/rajathkumarmp/Python\\-Lectures](https://github.com/rajathkumarmp/Python-Lectures) <br>\n",
    "https://gitlab.erc.monash.edu.au/andrease/Python4Maths/tree/master\n"
   ]
  },
  {
   "cell_type": "markdown",
   "metadata": {
    "collapsed": false
   },
   "source": [
    "โครงสร้างการจัดเก็บข้อมูลของ Python เป็นสิ่งที่สำคัญที่จะทำให้สามารถใช้งาน Python ได้มีประสิทธิภาพ\n",
    "\n"
   ]
  },
  {
   "cell_type": "markdown",
   "metadata": {
    "collapsed": false
   },
   "source": [
    "## Lists"
   ]
  },
  {
   "cell_type": "markdown",
   "metadata": {
    "collapsed": false
   },
   "source": [
    "Lists เป็นโครงสร้างข้อมูลที่ใช้บ่อยที่สุด คิดว่าเป็นลำดับของข้อมูลที่อยู่ในวงเล็บเหลี่ยมและข้อมูลจะถูกคั่นด้วยลูกน้ำ แต่ละข้อมูลเหล่านี้สามารถเข้าถึงได้โดยเรียกว่าค่าดัชนี\n",
    "\n",
    "list จะถูกประกาศด้วยเครื่องหมาย '[  ]' อย่างเช่น"
   ]
  },
  {
   "cell_type": "code",
   "execution_count": null,
   "metadata": {
    "collapsed": false,
    "metadata": {}
   },
   "outputs": [],
   "source": [
    "a = []"
   ]
  },
  {
   "cell_type": "code",
   "execution_count": null,
   "metadata": {
    "collapsed": false,
    "metadata": {}
   },
   "outputs": [],
   "source": [
    "print(type(a))"
   ]
  },
  {
   "cell_type": "code",
   "execution_count": null,
   "metadata": {
    "collapsed": false
   },
   "outputs": [],
   "source": []
  },
  {
   "cell_type": "code",
   "execution_count": null,
   "metadata": {
    "collapsed": false
   },
   "outputs": [],
   "source": []
  },
  {
   "cell_type": "code",
   "execution_count": null,
   "metadata": {
    "collapsed": false
   },
   "outputs": [],
   "source": []
  },
  {
   "cell_type": "markdown",
   "metadata": {
    "collapsed": false
   },
   "source": [
    "คำสั่ง type\\( \\)  จะใช้ตรวจสอบชนิดหรือ class ของ object ที่ต้องการตรวจสอบ นอกจากนั้นแล้วเรายังใช้คำสั่ง  dir\\( \\) ในการตรวจเช็คว่า object ดังกล่าวมี attribute หรือ method อะไรบ้างดังนี้\n"
   ]
  },
  {
   "cell_type": "code",
   "execution_count": null,
   "metadata": {
    "collapsed": false,
    "metadata": {}
   },
   "outputs": [],
   "source": [
    "dir(a)"
   ]
  },
  {
   "cell_type": "code",
   "execution_count": null,
   "metadata": {
    "collapsed": false
   },
   "outputs": [],
   "source": []
  },
  {
   "cell_type": "code",
   "execution_count": null,
   "metadata": {
    "collapsed": false
   },
   "outputs": [],
   "source": []
  },
  {
   "cell_type": "code",
   "execution_count": null,
   "metadata": {
    "collapsed": false
   },
   "outputs": [],
   "source": []
  },
  {
   "cell_type": "code",
   "execution_count": null,
   "metadata": {
    "collapsed": false
   },
   "outputs": [],
   "source": []
  },
  {
   "cell_type": "markdown",
   "metadata": {
    "collapsed": false
   },
   "source": [
    "### Indexing"
   ]
  },
  {
   "cell_type": "markdown",
   "metadata": {
    "collapsed": false
   },
   "source": [
    "กลับมาที่ Lists เราสามารถกำหนดลำดับของข้อมูลให้กับ list x ได้โดยตรงดังที่แสดง\n"
   ]
  },
  {
   "cell_type": "code",
   "execution_count": null,
   "metadata": {
    "collapsed": false,
    "metadata": {}
   },
   "outputs": [],
   "source": [
    "x = ['apple', 'orange']"
   ]
  },
  {
   "cell_type": "markdown",
   "metadata": {
    "collapsed": false
   },
   "source": [
    "ใน python การจัดทำดัชนีจะเริ่มจาก 0 ตอนนี้ List x ซึ่งมีสองสมาชิกจะมีแอปเปิ้ลที่ 0 ดัชนีและสีส้มที่ 1 ดัชนี\n",
    "\n"
   ]
  },
  {
   "cell_type": "code",
   "execution_count": null,
   "metadata": {
    "collapsed": false,
    "metadata": {}
   },
   "outputs": [],
   "source": [
    "x[0]"
   ]
  },
  {
   "cell_type": "code",
   "execution_count": null,
   "metadata": {
    "collapsed": false
   },
   "outputs": [],
   "source": []
  },
  {
   "cell_type": "code",
   "execution_count": null,
   "metadata": {
    "collapsed": false
   },
   "outputs": [],
   "source": []
  },
  {
   "cell_type": "code",
   "execution_count": null,
   "metadata": {
    "collapsed": false
   },
   "outputs": [],
   "source": []
  },
  {
   "cell_type": "markdown",
   "metadata": {
    "collapsed": false
   },
   "source": [
    "การจัดทำดัชนีสามารถทำได้ในลำดับย้อนกลับ นั่นคือสมาชิกสุดท้ายสามารถเข้าถึงได้ก่อน ที่นี่การสร้างดัชนีเริ่มจาก -1 ดังนั้นค่าดัชนี -1 จะเป็นสีส้มและดัชนี -2 จะเป็นแอปเปิ้ล\n",
    "\n"
   ]
  },
  {
   "cell_type": "code",
   "execution_count": null,
   "metadata": {
    "collapsed": false,
    "metadata": {}
   },
   "outputs": [],
   "source": [
    "x[-1]"
   ]
  },
  {
   "cell_type": "code",
   "execution_count": null,
   "metadata": {
    "collapsed": false
   },
   "outputs": [],
   "source": []
  },
  {
   "cell_type": "code",
   "execution_count": null,
   "metadata": {
    "collapsed": false
   },
   "outputs": [],
   "source": []
  },
  {
   "cell_type": "code",
   "execution_count": null,
   "metadata": {
    "collapsed": false
   },
   "outputs": [],
   "source": []
  },
  {
   "cell_type": "markdown",
   "metadata": {
    "collapsed": false
   },
   "source": [
    "อย่างที่เราอาจเดาได้แล้ว x [0] = x [-2], x [1] = x [-1] แนวคิดนี้สามารถขยายไปยัง List ที่มีสมาชิกอื่นๆ อีกมาก"
   ]
  },
  {
   "cell_type": "code",
   "execution_count": null,
   "metadata": {
    "collapsed": false,
    "metadata": {}
   },
   "outputs": [],
   "source": [
    "y = ['carrot','potato']"
   ]
  },
  {
   "cell_type": "code",
   "execution_count": null,
   "metadata": {
    "collapsed": false
   },
   "outputs": [],
   "source": []
  },
  {
   "cell_type": "code",
   "execution_count": null,
   "metadata": {
    "collapsed": false
   },
   "outputs": [],
   "source": []
  },
  {
   "cell_type": "code",
   "execution_count": null,
   "metadata": {
    "collapsed": false
   },
   "outputs": [],
   "source": []
  },
  {
   "cell_type": "markdown",
   "metadata": {
    "collapsed": false
   },
   "source": [
    "ตัวอย่างนี่เราได้ประกาศ List x และ y แต่ละ List มีข้อมูลของตัวเอง ตอนนี้สอง List นี้สามารถใส่ใน List อื่นได้ เช่น z ซึ่งจะมีข้อมูลเป็นสอง list โดยเราจะเห็นว่านี้ภายใน list เรียกว่าเป็น list ที่ซ้อนกันและเป็นวิธีการประกาศอาร์เรย์ซึ่งเราจะเห็นในภายหลัง\n",
    "\n"
   ]
  },
  {
   "cell_type": "code",
   "execution_count": null,
   "metadata": {
    "collapsed": false,
    "metadata": {}
   },
   "outputs": [],
   "source": [
    "z  = [x,y]\n",
    "print (z)"
   ]
  },
  {
   "cell_type": "code",
   "execution_count": null,
   "metadata": {
    "collapsed": false
   },
   "outputs": [],
   "source": []
  },
  {
   "cell_type": "code",
   "execution_count": null,
   "metadata": {
    "collapsed": false
   },
   "outputs": [],
   "source": []
  },
  {
   "cell_type": "code",
   "execution_count": null,
   "metadata": {
    "collapsed": false
   },
   "outputs": [],
   "source": []
  },
  {
   "cell_type": "markdown",
   "metadata": {
    "collapsed": false
   },
   "source": [
    "การทำดัชนีใน list ที่ซ้อนกันอาจสร้างความสับสนได้หากเราไม่เข้าใจว่าการจัดทำดัชนีทำงานอย่างไรใน python ซึ่งอยากให้ทำความเข้าใจจากตัวอย่างดังต่อไปนี้ \n",
    "\n",
    "ให้เราเข้าถึงข้อมูล 'apple' ใน list ที่ซ้อนด้านบน\n",
    "อันดับแรก ที่ดัชนี 0 มี list \\['apple','orange'\\] และที่ดัชนี 1 มี list อื่น \\['carrot','potato'\\] ดังนั้น z\\[0\\] ควรให้ list แรกที่มี 'apple' แก่เรา\n",
    "\n"
   ]
  },
  {
   "cell_type": "code",
   "execution_count": null,
   "metadata": {
    "collapsed": false,
    "metadata": {}
   },
   "outputs": [],
   "source": [
    "z1 = z[0]\n",
    "print (z1)"
   ]
  },
  {
   "cell_type": "markdown",
   "metadata": {
    "collapsed": false
   },
   "source": [
    "ตอนนี้ให้สังเกตว่า z1 ไม่ใช่ list ที่ซ้อนกัน ดังนั้นเพื่อเข้าถึง 'apple' z1 ควรจะสร้างดัชนีที่ 0\n",
    "\n"
   ]
  },
  {
   "cell_type": "code",
   "execution_count": null,
   "metadata": {
    "collapsed": false,
    "metadata": {}
   },
   "outputs": [],
   "source": [
    "z1[0]"
   ]
  },
  {
   "cell_type": "code",
   "execution_count": null,
   "metadata": {
    "collapsed": false
   },
   "outputs": [],
   "source": []
  },
  {
   "cell_type": "code",
   "execution_count": null,
   "metadata": {
    "collapsed": false
   },
   "outputs": [],
   "source": []
  },
  {
   "cell_type": "code",
   "execution_count": null,
   "metadata": {
    "collapsed": false
   },
   "outputs": [],
   "source": []
  },
  {
   "cell_type": "markdown",
   "metadata": {
    "collapsed": false
   },
   "source": [
    "แทนที่จะทำด้านบน ใน python เราสามารถเข้าถึง 'apple' ได้โดยเพียงแค่เขียนค่าดัชนีในแต่ละครั้งเคียงข้างกัน\n",
    "\n"
   ]
  },
  {
   "cell_type": "code",
   "execution_count": null,
   "metadata": {
    "collapsed": false,
    "metadata": {}
   },
   "outputs": [],
   "source": [
    "z[0][0]"
   ]
  },
  {
   "cell_type": "code",
   "execution_count": null,
   "metadata": {
    "collapsed": false
   },
   "outputs": [],
   "source": []
  },
  {
   "cell_type": "code",
   "execution_count": null,
   "metadata": {
    "collapsed": false
   },
   "outputs": [],
   "source": []
  },
  {
   "cell_type": "code",
   "execution_count": null,
   "metadata": {
    "collapsed": false
   },
   "outputs": [],
   "source": []
  },
  {
   "cell_type": "markdown",
   "metadata": {
    "collapsed": false
   },
   "source": [
    "หากมี list อยู่ใน list ภายใน list เราสามารถเข้าถึงค่าในสุดได้โดยดำเนินการ \n",
    "\n",
    "```\n",
    "z[ ][ ][ ]\n",
    "```\n",
    "\n"
   ]
  },
  {
   "cell_type": "markdown",
   "metadata": {
    "collapsed": false
   },
   "source": [
    "### Slicing\n",
    "\n"
   ]
  },
  {
   "cell_type": "markdown",
   "metadata": {
    "collapsed": false
   },
   "source": [
    "การจัดทำดัชนีจำกัดการเข้าถึงเพียงค่าเดียว ในทางกลับกัน Slicing สามารถกำลังเข้าถึงข้อมูลหลายค่าได้ ซึ่งเรียกว่า \"การหั่น\"  list  (Slicing the list)\n",
    "\n",
    "Slicing ทำได้โดยกำหนดค่าดัชนีของสมาชิกแรกและสมาชิกสุดท้ายจาก list หลักที่จำเป็นใน list แบบแบ่งส่วน มันถูกเขียนเป็น parentlist[ a : b ] โดยที่ a,b คือค่าดัชนีจาก parentlist หากไม่ได้กำหนด a หรือ b ค่าดัชนีจะถือเป็นค่าแรกสำหรับ a หากไม่ได้กำหนด a และค่าสุดท้ายสำหรับ b เมื่อไม่ได้กำหนด b\n",
    "\n"
   ]
  },
  {
   "cell_type": "code",
   "execution_count": null,
   "metadata": {
    "collapsed": false,
    "metadata": {}
   },
   "outputs": [],
   "source": [
    "num = [0,1,2,3,4,5,6,7,8,9]"
   ]
  },
  {
   "cell_type": "code",
   "execution_count": null,
   "metadata": {
    "collapsed": false,
    "metadata": {}
   },
   "outputs": [],
   "source": [
    "print (num[0:4])\n",
    "print (num[4:])"
   ]
  },
  {
   "cell_type": "markdown",
   "metadata": {
    "collapsed": false
   },
   "source": [
    "เรายังสามารถแบ่ง list หลัก โดยกำหนดความของแต่ละ step ได้\n",
    "\n"
   ]
  },
  {
   "cell_type": "code",
   "execution_count": null,
   "metadata": {
    "collapsed": false,
    "metadata": {}
   },
   "outputs": [],
   "source": [
    "num[:9:3]"
   ]
  },
  {
   "cell_type": "code",
   "execution_count": null,
   "metadata": {
    "collapsed": false
   },
   "outputs": [],
   "source": []
  },
  {
   "cell_type": "code",
   "execution_count": null,
   "metadata": {
    "collapsed": false
   },
   "outputs": [],
   "source": []
  },
  {
   "cell_type": "code",
   "execution_count": null,
   "metadata": {
    "collapsed": false
   },
   "outputs": [],
   "source": []
  },
  {
   "cell_type": "markdown",
   "metadata": {
    "collapsed": false
   },
   "source": [
    "### Built in List Functions"
   ]
  },
  {
   "cell_type": "markdown",
   "metadata": {
    "collapsed": false
   },
   "source": [
    "หากต้องการค้นหาความยาวของ list หรือจำนวนสมาชิกใน list ให้ใช้ **len( )**"
   ]
  },
  {
   "cell_type": "code",
   "execution_count": null,
   "metadata": {
    "collapsed": false,
    "metadata": {}
   },
   "outputs": [],
   "source": [
    "len(num)"
   ]
  },
  {
   "cell_type": "code",
   "execution_count": null,
   "metadata": {
    "collapsed": false
   },
   "outputs": [],
   "source": []
  },
  {
   "cell_type": "code",
   "execution_count": null,
   "metadata": {
    "collapsed": false
   },
   "outputs": [],
   "source": []
  },
  {
   "cell_type": "code",
   "execution_count": null,
   "metadata": {
    "collapsed": false
   },
   "outputs": [],
   "source": []
  },
  {
   "cell_type": "markdown",
   "metadata": {
    "collapsed": false
   },
   "source": [
    "หาก list ประกอบด้วยสมาชิกประเภทจำนวนเต็มทั้งหมด ดังนั้น **min( )** และ **max( )** จะให้ค่าต่ำสุดและสูงสุดใน list "
   ]
  },
  {
   "cell_type": "code",
   "execution_count": null,
   "metadata": {
    "collapsed": false,
    "metadata": {}
   },
   "outputs": [],
   "source": [
    "min(num)"
   ]
  },
  {
   "cell_type": "code",
   "execution_count": null,
   "metadata": {
    "collapsed": false,
    "metadata": {}
   },
   "outputs": [],
   "source": [
    "max(num)"
   ]
  },
  {
   "cell_type": "code",
   "execution_count": null,
   "metadata": {
    "collapsed": false
   },
   "outputs": [],
   "source": []
  },
  {
   "cell_type": "code",
   "execution_count": null,
   "metadata": {
    "collapsed": false
   },
   "outputs": [],
   "source": []
  },
  {
   "cell_type": "code",
   "execution_count": null,
   "metadata": {
    "collapsed": false
   },
   "outputs": [],
   "source": []
  },
  {
   "cell_type": "markdown",
   "metadata": {
    "collapsed": false
   },
   "source": [
    "list สามารถต่อกันได้โดยการเพิ่ม '+' ผลลัพธ์จะมีสมาชิกทั้งหมดของ list ที่เพิ่มเข้ามา  list ผลลัพธ์จะไม่เป็น list ที่ซ้อนกัน"
   ]
  },
  {
   "cell_type": "code",
   "execution_count": null,
   "metadata": {
    "collapsed": false,
    "metadata": {}
   },
   "outputs": [],
   "source": [
    "[1,2,3] + [5,4,7]"
   ]
  },
  {
   "cell_type": "code",
   "execution_count": null,
   "metadata": {
    "collapsed": false
   },
   "outputs": [],
   "source": []
  },
  {
   "cell_type": "code",
   "execution_count": null,
   "metadata": {
    "collapsed": false
   },
   "outputs": [],
   "source": []
  },
  {
   "cell_type": "code",
   "execution_count": null,
   "metadata": {
    "collapsed": false
   },
   "outputs": [],
   "source": []
  },
  {
   "cell_type": "markdown",
   "metadata": {
    "collapsed": false
   },
   "source": [
    "บางครั้ง อาจมีข้อกำหนดที่เราต้องตรวจสอบว่ามีสมาชิกเฉพาะใน list ที่กำหนดไว้ล่วงหน้าหรือไม่ พิจารณา list ด้านล่างนี้\n"
   ]
  },
  {
   "cell_type": "code",
   "execution_count": null,
   "metadata": {
    "collapsed": false,
    "metadata": {}
   },
   "outputs": [],
   "source": [
    "names = ['Earth','Air','Fire','Water']"
   ]
  },
  {
   "cell_type": "markdown",
   "metadata": {
    "collapsed": false
   },
   "source": [
    "เพื่อตรวจสอบว่า 'Fire' และ 'Air' มีอยู่ใน list หรือไม่ วิธีการทั่วไปคือการใช้ for loop และวนซ้ำ list และใช้เงื่อนไข if แต่ใน python เราสามารถใช้แนวคิด 'a in b' ซึ่งจะคืนค่า 'True' หาก a มีอยู่ใน b และ 'False' หากไม่มี\n"
   ]
  },
  {
   "cell_type": "code",
   "execution_count": null,
   "metadata": {
    "collapsed": false,
    "metadata": {}
   },
   "outputs": [],
   "source": [
    "'Fire' in names"
   ]
  },
  {
   "cell_type": "code",
   "execution_count": null,
   "metadata": {
    "collapsed": false
   },
   "outputs": [],
   "source": []
  },
  {
   "cell_type": "code",
   "execution_count": null,
   "metadata": {
    "collapsed": false
   },
   "outputs": [],
   "source": []
  },
  {
   "cell_type": "code",
   "execution_count": null,
   "metadata": {
    "collapsed": false
   },
   "outputs": [],
   "source": []
  },
  {
   "cell_type": "markdown",
   "metadata": {
    "collapsed": false
   },
   "source": [
    "ใน list ที่มีสมาชิกเป็นสตริง **max( )** และ **min( )** สามารถใช้ได้ **max( )** จะส่งคืนสมาชิกสตริงที่มีค่า ASCII สูงสุดและต่ำสุดเมื่อใช้ **min( )** โปรดสังเกตุว่าจะมีการพิจารณาเฉพาะดัชนีแรกของแต่ละสมาชิกในแต่ละครั้ง และหากค่าของดัชนีเท่ากัน ดัชนีที่สองจะพิจารณาเป็นเช่นนี้ไปเรื่อยๆ "
   ]
  },
  {
   "cell_type": "code",
   "execution_count": null,
   "metadata": {
    "collapsed": false,
    "metadata": {}
   },
   "outputs": [],
   "source": [
    "mlist = ['bzaa','ds','nc','az','z','klm']"
   ]
  },
  {
   "cell_type": "code",
   "execution_count": null,
   "metadata": {
    "collapsed": false,
    "metadata": {}
   },
   "outputs": [],
   "source": [
    "print (max(mlist))\n",
    "print (min(mlist))"
   ]
  },
  {
   "cell_type": "code",
   "execution_count": null,
   "metadata": {
    "collapsed": false
   },
   "outputs": [],
   "source": []
  },
  {
   "cell_type": "code",
   "execution_count": null,
   "metadata": {
    "collapsed": false
   },
   "outputs": [],
   "source": []
  },
  {
   "cell_type": "code",
   "execution_count": null,
   "metadata": {
    "collapsed": false
   },
   "outputs": [],
   "source": []
  },
  {
   "cell_type": "markdown",
   "metadata": {
    "collapsed": false
   },
   "source": [
    "ที่นี่พิจารณาดัชนีแรกของแต่ละสมาชิกและด้วยเหตุนี้ z มีค่า ASCII สูงสุดจึงถูกส่งกลับและ ASCII ขั้นต่ำคือ a แต่ถ้าตัวเลขถูกประกาศเป็นสตริงล่ะ? "
   ]
  },
  {
   "cell_type": "code",
   "execution_count": null,
   "metadata": {
    "collapsed": false,
    "metadata": {}
   },
   "outputs": [],
   "source": [
    "nlist = ['1','94','93','1000']"
   ]
  },
  {
   "cell_type": "code",
   "execution_count": null,
   "metadata": {
    "collapsed": false,
    "metadata": {}
   },
   "outputs": [],
   "source": [
    "print (max(nlist))\n",
    "print (min(nlist))"
   ]
  },
  {
   "cell_type": "markdown",
   "metadata": {
    "collapsed": false
   },
   "source": [
    "แม้ว่าตัวเลขจะถูกประกาศเป็นสตริง ดัชนีแรกของแต่ละสมาชิกจะถูกพิจารณาและส่งคืนค่าสูงสุดและต่ำสุดตามลำดับ"
   ]
  },
  {
   "cell_type": "code",
   "execution_count": null,
   "metadata": {
    "collapsed": false
   },
   "outputs": [],
   "source": []
  },
  {
   "cell_type": "code",
   "execution_count": null,
   "metadata": {
    "collapsed": false
   },
   "outputs": [],
   "source": []
  },
  {
   "cell_type": "code",
   "execution_count": null,
   "metadata": {
    "collapsed": false
   },
   "outputs": [],
   "source": []
  },
  {
   "cell_type": "markdown",
   "metadata": {
    "collapsed": false
   },
   "source": [
    "แต่ถ้าเราต้องการค้นหาสมาชิกแบบสตริง **max( )** ตามความยาวของสตริง พารามิเตอร์ 'key=len' จะถูกประกาศภายใน **max( )** และ **min( )** เพื่อหาค่าดังกล่าว"
   ]
  },
  {
   "cell_type": "code",
   "execution_count": null,
   "metadata": {
    "collapsed": false,
    "metadata": {}
   },
   "outputs": [],
   "source": [
    "print (max(names, key=len))\n",
    "print (min(names, key=len))"
   ]
  },
  {
   "cell_type": "markdown",
   "metadata": {
    "collapsed": false
   },
   "source": [
    "แต่แม้ว่า  Water ก็มีความยาว 5  **max\\(\\)** หรือ **min\\(\\)** ฟังก์ชันจะคืนค่าสมาชิกแรกเมื่อมีสมาชิกตั้งแต่สองสมาชิกขึ้นไปที่มีความยาวเท่ากัน <br>\n",
    "สามารถใช้ฟังก์ชันอื่นๆ ในตัวหรือฟังก์ชัน lambda \\(จะกล่าวถึงในภายหลัง\\) แทน len"
   ]
  },
  {
   "cell_type": "code",
   "execution_count": null,
   "metadata": {
    "collapsed": false
   },
   "outputs": [],
   "source": []
  },
  {
   "cell_type": "code",
   "execution_count": null,
   "metadata": {
    "collapsed": false
   },
   "outputs": [],
   "source": []
  },
  {
   "cell_type": "code",
   "execution_count": null,
   "metadata": {
    "collapsed": false
   },
   "outputs": [],
   "source": []
  },
  {
   "cell_type": "markdown",
   "metadata": {
    "collapsed": false
   },
   "source": [
    "สตริงสามารถแปลงเป็น list โดยใช้ฟังก์ชัน **list\\(\\)**"
   ]
  },
  {
   "cell_type": "code",
   "execution_count": null,
   "metadata": {
    "collapsed": false,
    "metadata": {}
   },
   "outputs": [],
   "source": [
    "list('hello')"
   ]
  },
  {
   "cell_type": "code",
   "execution_count": null,
   "metadata": {
    "collapsed": false
   },
   "outputs": [],
   "source": []
  },
  {
   "cell_type": "code",
   "execution_count": null,
   "metadata": {
    "collapsed": false
   },
   "outputs": [],
   "source": []
  },
  {
   "cell_type": "code",
   "execution_count": null,
   "metadata": {
    "collapsed": false
   },
   "outputs": [],
   "source": []
  },
  {
   "cell_type": "markdown",
   "metadata": {
    "collapsed": false
   },
   "source": [
    "**สรุปฟังก์ชันที่สามารถใช้กับ list ได้**\n",
    "\n",
    "- min\\(lst\\) : คืนค่าที่น้อยที่สุดออกมา\n",
    "- max\\(lst\\) :  คืนค่าที่มากที่สุดออกมา\n",
    "- len\\(lst\\) : คืนค่าความยาว lst\n",
    "- list\\(seq\\) : แปลงค่าข้อมูลประเภท seq ให้ไปเป็น list เช่นข้อมูลประเภท  range, string และ tuple \n",
    "\n"
   ]
  },
  {
   "cell_type": "markdown",
   "metadata": {
    "collapsed": false
   },
   "source": [
    "### Method ของ List\n",
    "\n"
   ]
  },
  {
   "cell_type": "markdown",
   "metadata": {
    "collapsed": false
   },
   "source": [
    "method เป็นฟังก์ชันที่สร้างขึ้นมาเพื่อใช้งานกับ object ประเภท list โดยเฉพาะ เพื่อไม่ให้เกิดความสับสนเราจะเรียนฟังก์ชันมีมาให้กับ object นั้นว่า method แทนที่จะเรียกว่าฟังก์ชัน เพราะวิธีการเรียกใช้งานต่างกัน เช่น\n",
    "\n",
    "`a = [ ]`\n",
    "\n",
    "`a.append('hello')`\n",
    "\n",
    "จากตัวอย่างทางด้านล่างนี้เราจะเห็นว่า append() เป็น method ของ object a จะต้องเรียกใช้ด้วยวิธีการนี้\n",
    "\n"
   ]
  },
  {
   "cell_type": "code",
   "execution_count": null,
   "metadata": {
    "collapsed": false
   },
   "outputs": [],
   "source": []
  },
  {
   "cell_type": "code",
   "execution_count": null,
   "metadata": {
    "collapsed": false
   },
   "outputs": [],
   "source": []
  },
  {
   "cell_type": "code",
   "execution_count": null,
   "metadata": {
    "collapsed": false
   },
   "outputs": [],
   "source": []
  },
  {
   "cell_type": "markdown",
   "metadata": {
    "collapsed": false
   },
   "source": [
    "**append\\( \\)** ใช้เพื่อเพิ่มสมาชิกที่ส่วนท้ายของ list\n",
    "\n"
   ]
  },
  {
   "cell_type": "code",
   "execution_count": null,
   "metadata": {
    "collapsed": false,
    "metadata": {}
   },
   "outputs": [],
   "source": [
    "lst = [1,1,4,8,7]"
   ]
  },
  {
   "cell_type": "code",
   "execution_count": null,
   "metadata": {
    "collapsed": false,
    "metadata": {}
   },
   "outputs": [],
   "source": [
    "lst.append(1)\n",
    "print(lst)"
   ]
  },
  {
   "cell_type": "code",
   "execution_count": null,
   "metadata": {
    "collapsed": false
   },
   "outputs": [],
   "source": []
  },
  {
   "cell_type": "code",
   "execution_count": null,
   "metadata": {
    "collapsed": false
   },
   "outputs": [],
   "source": []
  },
  {
   "cell_type": "code",
   "execution_count": null,
   "metadata": {
    "collapsed": false
   },
   "outputs": [],
   "source": []
  },
  {
   "cell_type": "markdown",
   "metadata": {
    "collapsed": false
   },
   "source": [
    "**count\\( \\)** ใช้เพื่อนับจำนวนของสมาชิกเฉพาะที่มีอยู่ใน list\n"
   ]
  },
  {
   "cell_type": "code",
   "execution_count": null,
   "metadata": {
    "collapsed": false,
    "metadata": {}
   },
   "outputs": [],
   "source": [
    "lst.count(1)"
   ]
  },
  {
   "cell_type": "code",
   "execution_count": null,
   "metadata": {
    "collapsed": false
   },
   "outputs": [],
   "source": []
  },
  {
   "cell_type": "code",
   "execution_count": null,
   "metadata": {
    "collapsed": false
   },
   "outputs": [],
   "source": []
  },
  {
   "cell_type": "code",
   "execution_count": null,
   "metadata": {
    "collapsed": false
   },
   "outputs": [],
   "source": []
  },
  {
   "cell_type": "markdown",
   "metadata": {
    "collapsed": false
   },
   "source": [
    "ฟังก์ชัน **append\\( \\)** สามารถใช้เพื่อเพิ่ม list ทั้งหมดในตอนท้ายได้ สังเกตว่า list ผลลัพธ์ กลายเป็น list ที่ซ้อนกัน\n"
   ]
  },
  {
   "cell_type": "code",
   "execution_count": null,
   "metadata": {
    "collapsed": false,
    "metadata": {}
   },
   "outputs": [],
   "source": [
    "lst1 = [5,4,2,8]"
   ]
  },
  {
   "cell_type": "code",
   "execution_count": null,
   "metadata": {
    "collapsed": false,
    "metadata": {}
   },
   "outputs": [],
   "source": [
    "lst.append(lst1)\n",
    "print(lst)"
   ]
  },
  {
   "cell_type": "code",
   "execution_count": null,
   "metadata": {
    "collapsed": false
   },
   "outputs": [],
   "source": []
  },
  {
   "cell_type": "code",
   "execution_count": null,
   "metadata": {
    "collapsed": false
   },
   "outputs": [],
   "source": []
  },
  {
   "cell_type": "code",
   "execution_count": null,
   "metadata": {
    "collapsed": false
   },
   "outputs": [],
   "source": []
  },
  {
   "cell_type": "markdown",
   "metadata": {
    "collapsed": false
   },
   "source": [
    "แต่ถ้า list ที่ซ้อนกัน ไม่ใช่สิ่งที่ต้องการ ก็สามารถใช้ฟังก์ชัน **extend\\( \\)** ได้\n"
   ]
  },
  {
   "cell_type": "code",
   "execution_count": null,
   "metadata": {
    "collapsed": false,
    "metadata": {}
   },
   "outputs": [],
   "source": [
    "lst.extend(lst1)\n",
    "print(lst)"
   ]
  },
  {
   "cell_type": "code",
   "execution_count": null,
   "metadata": {
    "collapsed": false
   },
   "outputs": [],
   "source": []
  },
  {
   "cell_type": "code",
   "execution_count": null,
   "metadata": {
    "collapsed": false
   },
   "outputs": [],
   "source": []
  },
  {
   "cell_type": "code",
   "execution_count": null,
   "metadata": {
    "collapsed": false
   },
   "outputs": [],
   "source": []
  },
  {
   "cell_type": "markdown",
   "metadata": {
    "collapsed": false
   },
   "source": [
    "**index\\( \\)** ใช้เพื่อค้นหาค่าดัชนีของสมาชิกเฉพาะ โปรดทราบว่าหากมีสมาชิกหลายสมาชิกที่มีค่าเดียวกัน ค่าดัชนีแรกของสมาชิกนั้นจะถูกส่งคืน\n"
   ]
  },
  {
   "cell_type": "code",
   "execution_count": null,
   "metadata": {
    "collapsed": false,
    "metadata": {}
   },
   "outputs": [],
   "source": [
    "lst.index(1)"
   ]
  },
  {
   "cell_type": "code",
   "execution_count": null,
   "metadata": {
    "collapsed": false
   },
   "outputs": [],
   "source": []
  },
  {
   "cell_type": "code",
   "execution_count": null,
   "metadata": {
    "collapsed": false
   },
   "outputs": [],
   "source": []
  },
  {
   "cell_type": "code",
   "execution_count": null,
   "metadata": {
    "collapsed": false
   },
   "outputs": [],
   "source": []
  },
  {
   "cell_type": "markdown",
   "metadata": {
    "collapsed": false
   },
   "source": [
    "**insert\\(x,y\\)** ใช้เพื่อแทรกสมาชิก y ที่ค่าดัชนีที่ระบุ x สำหรับฟังก์ชัน **append\\( \\)** ทำให้แทรกได้เฉพาะส่วนท้ายเท่านั้น\n"
   ]
  },
  {
   "cell_type": "code",
   "execution_count": null,
   "metadata": {
    "collapsed": false,
    "metadata": {}
   },
   "outputs": [],
   "source": [
    "lst.insert(5, 'name')\n",
    "print(lst)"
   ]
  },
  {
   "cell_type": "code",
   "execution_count": null,
   "metadata": {
    "collapsed": false
   },
   "outputs": [],
   "source": []
  },
  {
   "cell_type": "code",
   "execution_count": null,
   "metadata": {
    "collapsed": false
   },
   "outputs": [],
   "source": []
  },
  {
   "cell_type": "code",
   "execution_count": null,
   "metadata": {
    "collapsed": false
   },
   "outputs": [],
   "source": []
  },
  {
   "cell_type": "markdown",
   "metadata": {
    "collapsed": false
   },
   "source": [
    "**insert\\(x, y\\)** แทรก แต่ไม่ได้แทนที่สมาชิก หากเราต้องการแทนที่สมาชิกด้วยสมาชิกอื่น เราเพียงแค่กำหนดค่าให้กับดัชนีนั้น ๆ\n"
   ]
  },
  {
   "cell_type": "code",
   "execution_count": null,
   "metadata": {
    "collapsed": false,
    "metadata": {}
   },
   "outputs": [],
   "source": [
    "lst[5] = 'Python'\n",
    "print(lst)"
   ]
  },
  {
   "cell_type": "code",
   "execution_count": null,
   "metadata": {
    "collapsed": false
   },
   "outputs": [],
   "source": []
  },
  {
   "cell_type": "code",
   "execution_count": null,
   "metadata": {
    "collapsed": false
   },
   "outputs": [],
   "source": []
  },
  {
   "cell_type": "code",
   "execution_count": null,
   "metadata": {
    "collapsed": false
   },
   "outputs": [],
   "source": []
  },
  {
   "cell_type": "markdown",
   "metadata": {
    "collapsed": false
   },
   "source": [
    "ฟังก์ชัน **pop\\( \\)** คืนค่าสมาชิกสุดท้ายใน list ซึ่งคล้ายกับการทำงานของ stack ดังนั้นจึงไม่ผิดที่จะบอกว่า list สามารถใช้เป็น stack ได้\n"
   ]
  },
  {
   "cell_type": "code",
   "execution_count": null,
   "metadata": {
    "collapsed": false,
    "metadata": {}
   },
   "outputs": [],
   "source": [
    "lst.pop()"
   ]
  },
  {
   "cell_type": "code",
   "execution_count": null,
   "metadata": {
    "collapsed": false
   },
   "outputs": [],
   "source": []
  },
  {
   "cell_type": "code",
   "execution_count": null,
   "metadata": {
    "collapsed": false
   },
   "outputs": [],
   "source": []
  },
  {
   "cell_type": "code",
   "execution_count": null,
   "metadata": {
    "collapsed": false
   },
   "outputs": [],
   "source": []
  },
  {
   "cell_type": "markdown",
   "metadata": {
    "collapsed": false
   },
   "source": [
    "เราสามารถระบุค่าดัชนีเพื่อแสดงสมาชิกที่สอดคล้องกับค่าดัชนีนั้น\n"
   ]
  },
  {
   "cell_type": "code",
   "execution_count": null,
   "metadata": {
    "collapsed": false,
    "metadata": {}
   },
   "outputs": [],
   "source": [
    "lst.pop(0)"
   ]
  },
  {
   "cell_type": "markdown",
   "metadata": {
    "collapsed": false
   },
   "source": [
    "**pop\\( \\)** ใช้เพื่อลบสมาชิกตามค่าดัชนีซึ่งสามารถกำหนดให้กับตัวแปรได้ นอกจากนี้ยังสามารถลบสมาชิกโดยการระบุสมาชิกโดยใช้ฟังก์ชัน **remove\\(\\)**\n",
    "\n"
   ]
  },
  {
   "cell_type": "code",
   "execution_count": null,
   "metadata": {
    "collapsed": false,
    "metadata": {}
   },
   "outputs": [],
   "source": [
    "lst.remove('Python')\n",
    "print(lst)"
   ]
  },
  {
   "cell_type": "code",
   "execution_count": null,
   "metadata": {
    "collapsed": false
   },
   "outputs": [],
   "source": []
  },
  {
   "cell_type": "code",
   "execution_count": null,
   "metadata": {
    "collapsed": false
   },
   "outputs": [],
   "source": []
  },
  {
   "cell_type": "code",
   "execution_count": null,
   "metadata": {
    "collapsed": false
   },
   "outputs": [],
   "source": []
  },
  {
   "cell_type": "markdown",
   "metadata": {
    "collapsed": false
   },
   "source": [
    "นอกจากนั้น เรายังมีวิธีการอื่นเพื่อลบ คือ **del** แต่ del นี้ไม่ได้เป็น method  ของ list\n"
   ]
  },
  {
   "cell_type": "code",
   "execution_count": null,
   "metadata": {
    "collapsed": false,
    "metadata": {}
   },
   "outputs": [],
   "source": [
    "del lst[1]\n",
    "print (lst)"
   ]
  },
  {
   "cell_type": "code",
   "execution_count": null,
   "metadata": {
    "collapsed": false
   },
   "outputs": [],
   "source": []
  },
  {
   "cell_type": "code",
   "execution_count": null,
   "metadata": {
    "collapsed": false
   },
   "outputs": [],
   "source": []
  },
  {
   "cell_type": "code",
   "execution_count": null,
   "metadata": {
    "collapsed": false
   },
   "outputs": [],
   "source": []
  },
  {
   "cell_type": "markdown",
   "metadata": {
    "collapsed": false
   },
   "source": [
    "สมาชิกทั้งหมดที่มีอยู่ใน list สามารถย้อนกลับได้โดยใช้ฟังก์ชัน **reverse\\(\\)**\n"
   ]
  },
  {
   "cell_type": "code",
   "execution_count": null,
   "metadata": {
    "collapsed": false,
    "metadata": {}
   },
   "outputs": [],
   "source": [
    "lst.reverse()\n",
    "print(lst)"
   ]
  },
  {
   "cell_type": "code",
   "execution_count": null,
   "metadata": {
    "collapsed": false
   },
   "outputs": [],
   "source": []
  },
  {
   "cell_type": "code",
   "execution_count": null,
   "metadata": {
    "collapsed": false
   },
   "outputs": [],
   "source": []
  },
  {
   "cell_type": "code",
   "execution_count": null,
   "metadata": {
    "collapsed": false
   },
   "outputs": [],
   "source": []
  },
  {
   "cell_type": "markdown",
   "metadata": {
    "collapsed": false
   },
   "source": [
    "สังเกตุว่า nested list  \\[5,4,2,8\\] จะถือเป็นสมาชิกเดียวของ list หลัก lst ดังนั้นสมาชิกภายใน nested list จะไม่กลับ list \n",
    "\n",
    "Python เสนอการดำเนินการ **sort\\( \\)** ในตัวเพื่อจัดเรียงสมาชิกในลำดับจากน้อยไปมาก\n",
    "\n"
   ]
  },
  {
   "cell_type": "code",
   "execution_count": null,
   "metadata": {
    "collapsed": false,
    "metadata": {}
   },
   "outputs": [],
   "source": [
    "lst.sort()\n",
    "print(lst)"
   ]
  },
  {
   "cell_type": "markdown",
   "metadata": {
    "collapsed": false
   },
   "source": [
    "อย่างไรก็ตาม **sort\\(\\)** ไม่รองรับการเปรียบเทียบข้อมูลต่างประเภทกัน ดังนั้นจะต้องเอาส่วนที่เป็น nested list ออกไปก่อน\n",
    "\n"
   ]
  },
  {
   "cell_type": "code",
   "execution_count": null,
   "metadata": {
    "collapsed": false,
    "metadata": {}
   },
   "outputs": [],
   "source": [
    "lst.remove([5, 4, 2, 8])\n",
    "print(lst)"
   ]
  },
  {
   "cell_type": "code",
   "execution_count": null,
   "metadata": {
    "collapsed": false,
    "metadata": {}
   },
   "outputs": [],
   "source": [
    "lst.sort()\n",
    "print(lst)"
   ]
  },
  {
   "cell_type": "markdown",
   "metadata": {
    "collapsed": false
   },
   "source": [
    "สำหรับลำดับจากน้อยไปมาก มีค่าเริ่มต้น เงื่อนไขย้อนกลับจะเป็น False ดังนั้นการเปลี่ยนเป็น True จะจัดเรียงสมาชิกจากมากไปหาน้อย\n"
   ]
  },
  {
   "cell_type": "code",
   "execution_count": null,
   "metadata": {
    "collapsed": false,
    "metadata": {}
   },
   "outputs": [],
   "source": [
    "lst.sort(reverse=True)\n",
    "print(lst)"
   ]
  },
  {
   "cell_type": "code",
   "execution_count": null,
   "metadata": {
    "collapsed": false
   },
   "outputs": [],
   "source": []
  },
  {
   "cell_type": "code",
   "execution_count": null,
   "metadata": {
    "collapsed": false
   },
   "outputs": [],
   "source": []
  },
  {
   "cell_type": "code",
   "execution_count": null,
   "metadata": {
    "collapsed": false
   },
   "outputs": [],
   "source": []
  },
  {
   "cell_type": "markdown",
   "metadata": {
    "collapsed": false
   },
   "source": [
    "ในทำนองเดียวกันสำหรับ list ที่มีสมาชิกสตริง **sort\\( \\)** จะเรียงลำดับสมาชิกตามค่า ASCII จากน้อยไปมาก และโดยการระบุ reverse=True เพื่อจัดเรียงจากมากไปหาน้อย\n",
    "\n"
   ]
  },
  {
   "cell_type": "code",
   "execution_count": null,
   "metadata": {
    "collapsed": false,
    "metadata": {}
   },
   "outputs": [],
   "source": [
    "names.sort()\n",
    "print(names)\n"
   ]
  },
  {
   "cell_type": "code",
   "execution_count": null,
   "metadata": {
    "collapsed": false,
    "metadata": {}
   },
   "outputs": [],
   "source": [
    "names.sort(reverse=True)\n",
    "print(names)"
   ]
  },
  {
   "cell_type": "code",
   "execution_count": null,
   "metadata": {
    "collapsed": false
   },
   "outputs": [],
   "source": []
  },
  {
   "cell_type": "code",
   "execution_count": null,
   "metadata": {
    "collapsed": false
   },
   "outputs": [],
   "source": []
  },
  {
   "cell_type": "code",
   "execution_count": null,
   "metadata": {
    "collapsed": false
   },
   "outputs": [],
   "source": []
  },
  {
   "cell_type": "markdown",
   "metadata": {
    "collapsed": false
   },
   "source": [
    "ในการจัดเรียงตามความยาว key=len ควรระบุตามที่แสดง\n",
    "\n"
   ]
  },
  {
   "cell_type": "code",
   "execution_count": null,
   "metadata": {
    "collapsed": false,
    "metadata": {}
   },
   "outputs": [],
   "source": [
    "names.sort(key=len)\n",
    "print(names)"
   ]
  },
  {
   "cell_type": "code",
   "execution_count": null,
   "metadata": {
    "collapsed": false,
    "metadata": {}
   },
   "outputs": [],
   "source": [
    "names.sort(key=len,reverse=True)\n",
    "print(names)"
   ]
  },
  {
   "cell_type": "code",
   "execution_count": null,
   "metadata": {
    "collapsed": false
   },
   "outputs": [],
   "source": []
  },
  {
   "cell_type": "code",
   "execution_count": null,
   "metadata": {
    "collapsed": false
   },
   "outputs": [],
   "source": []
  },
  {
   "cell_type": "code",
   "execution_count": null,
   "metadata": {
    "collapsed": false
   },
   "outputs": [],
   "source": []
  },
  {
   "cell_type": "markdown",
   "metadata": {
    "collapsed": false
   },
   "source": [
    "**สรุป method ของ list**\n",
    "\n",
    "- append\\( \\) : \n",
    "- count\\( \\)\n",
    "- extend\\( \\)\n",
    "- index\\( \\)\n",
    "- insert\\( \\)\n",
    "- pop\\( \\)\n",
    "- remove\\( \\)\n",
    "- reverse\\( \\)\n",
    "- sort\\( \\)\n",
    "\n"
   ]
  },
  {
   "cell_type": "code",
   "execution_count": null,
   "metadata": {
    "collapsed": false
   },
   "outputs": [],
   "source": []
  },
  {
   "cell_type": "markdown",
   "metadata": {
    "collapsed": false
   },
   "source": [
    "### Copying a list\n",
    "\n"
   ]
  },
  {
   "cell_type": "markdown",
   "metadata": {
    "collapsed": false
   },
   "source": [
    "โปรแกรมเมอร์ python ใหม่ ส่วนใหญ่จะทำข้อผิดพลาดนี้ พิจารณาสิ่งต่อไปนี้\n",
    "\n"
   ]
  },
  {
   "cell_type": "code",
   "execution_count": null,
   "metadata": {
    "collapsed": false,
    "metadata": {}
   },
   "outputs": [],
   "source": [
    "lista= [2,1,4,3]"
   ]
  },
  {
   "cell_type": "code",
   "execution_count": null,
   "metadata": {
    "collapsed": false,
    "metadata": {}
   },
   "outputs": [],
   "source": [
    "listb = lista\n",
    "print (listb)"
   ]
  },
  {
   "cell_type": "markdown",
   "metadata": {
    "collapsed": false
   },
   "source": [
    "ตรงนี้ เราได้ประกาศ lista = \\[2,1,4,3\\]  list นี้ถูกคัดลอกไปยัง listb โดยกำหนดค่าและได้รับการคัดลอกตามที่เห็น ตอนนี้เราทำการเปลี่ยนค่าบน lista\n"
   ]
  },
  {
   "cell_type": "code",
   "execution_count": null,
   "metadata": {
    "collapsed": false,
    "metadata": {}
   },
   "outputs": [],
   "source": [
    "lista.pop()\n",
    "print (lista)\n",
    "lista.append(9)\n",
    "print (lista)"
   ]
  },
  {
   "cell_type": "code",
   "execution_count": null,
   "metadata": {
    "collapsed": false,
    "metadata": {}
   },
   "outputs": [],
   "source": [
    "print(listb)"
   ]
  },
  {
   "cell_type": "markdown",
   "metadata": {
    "collapsed": false
   },
   "source": [
    "listb ก็เปลี่ยนไปเช่นกันแม้ว่าจะไม่ได้ดำเนินการใดๆ เนื่องจากเราได้กำหนดพื้นที่หน่วยความจำเดียวกันกับ lista ใน listb แล้วจะแก้ไขอย่างไร?\n",
    "\n",
    "หากยังจำได้ ในการสไลซ์ เราพบว่า parentlist\\[a:b\\] ส่งคืน list จาก parent list ทีมีดัชนีเริ่มต้น a และดัชนีสิ้นสุด b และหากไม่มีการระบุ a และ b โดยค่า default จะถือว่าเป็นสมาชิกแรกและสมาชิกสุดท้าย เราใช้แนวคิดเดียวกันที่นี่ ดังนั้นเราจะกำหนดข้อมูลของ lista ให้กับ listb เป็นตัวแปร\n",
    "\n"
   ]
  },
  {
   "cell_type": "code",
   "execution_count": null,
   "metadata": {
    "collapsed": false,
    "metadata": {}
   },
   "outputs": [],
   "source": [
    "lista = [2,1,4,3]"
   ]
  },
  {
   "cell_type": "code",
   "execution_count": null,
   "metadata": {
    "collapsed": false,
    "metadata": {}
   },
   "outputs": [],
   "source": [
    "listb = lista[:]\n",
    "print (listb)"
   ]
  },
  {
   "cell_type": "code",
   "execution_count": null,
   "metadata": {
    "collapsed": false,
    "metadata": {}
   },
   "outputs": [],
   "source": [
    "lista.pop()\n",
    "print (lista)\n",
    "lista.append(9)\n",
    "print (lista)"
   ]
  },
  {
   "cell_type": "code",
   "execution_count": null,
   "metadata": {
    "collapsed": false,
    "metadata": {}
   },
   "outputs": [],
   "source": [
    "print (listb)"
   ]
  },
  {
   "cell_type": "markdown",
   "metadata": {
    "collapsed": false
   },
   "source": [
    "## Exercise\n",
    "\n"
   ]
  },
  {
   "cell_type": "markdown",
   "metadata": {
    "collapsed": false
   },
   "source": [
    "### Ex 1\n",
    "\n",
    "ถ้าห้องเรียน ป. 1/1  มีรายชื่อนักเรียนดังนี้\n",
    "\n",
    "สมชาย สมหญิง สมศรี  \n",
    "\n",
    "ถ้าห้องเรียน  ป. 1/2 มีรายชื่อนักเรียนดังนี้\n",
    "\n",
    "สมศักดิ์ สมพงษ์ สมรักษ์\n",
    "\n",
    "ต้องการสร้าง list รายชื่อของ ห้องเรียน ป. 1/1 และ ป. 1/2 และรายชื่อรวมของชั้น ป.1 ทั้งหมด\n",
    "\n"
   ]
  },
  {
   "cell_type": "code",
   "execution_count": null,
   "metadata": {
    "collapsed": false,
    "metadata": {},
    "nbgrader": {
     "grade": false,
     "grade_id": "82fde7",
     "locked": false,
     "schema_version": 3,
     "solution": true,
     "task": false
    }
   },
   "outputs": [],
   "source": [
    "def exercise1():   \n",
    "\n",
    "    nameListClass1_1 = [ ]\n",
    "    nameListClass1_2 = [ ]\n",
    "    allNameList = []\n",
    "    #===================================================\n",
    "    ### BEGIN SOLUTION\n",
    "    nameListClass1_1 = ['สมชาย','สมหญิง','สมศรี']\n",
    "    nameListClass1_2 = ['สมศักดิ์','สมพงษ์','สมรักษ์']\n",
    "    allNameList = nameListClass1_1 + nameListClass1_2\n",
    "    ### END SOLUTION\n",
    "    \n",
    "    #===================================================\n",
    "    \n",
    "    return nameListClass1_1, nameListClass1_2, allNameList\n",
    "    \n",
    "    "
   ]
  },
  {
   "cell_type": "code",
   "execution_count": null,
   "metadata": {
    "collapsed": false,
    "metadata": {},
    "nbgrader": {
     "grade": true,
     "grade_id": "894cf5",
     "locked": true,
     "points": 1,
     "schema_version": 3,
     "solution": false,
     "task": false
    }
   },
   "outputs": [],
   "source": [
    "# [Modify the tests below for your own problem]\n",
    "# Check that squares returns the correct output for several inputs:\n",
    "from nose.tools import assert_equal\n",
    "assert_equal(exercise1()[0], ['สมชาย','สมหญิง','สมศรี'])\n",
    "\n",
    "\n",
    "### BEGIN HIDDEN TESTS\n",
    "# students will NOT see these extra tests\n",
    "assert_equal(exercise1()[1], ['สมศักดิ์','สมพงษ์','สมรักษ์'])\n",
    "assert_equal(exercise1()[2], ['สมชาย','สมหญิง','สมศรี','สมศักดิ์','สมพงษ์','สมรักษ์'])\n",
    "### END HIDDEN TESTS"
   ]
  },
  {
   "cell_type": "markdown",
   "metadata": {
    "collapsed": false
   },
   "source": [
    "### Ex 2\n",
    "\n",
    "ร้านค้าแห่งหนึ่งมียอดขายประจำปี 2564 ในหน่วยล้านบาท ดังนี้\n",
    "\n",
    "1.00 2.00 3.00 2.00 1.20 1.35 2.50 3.11 2.00 2.15 1.11 1.42\n",
    "\n",
    "จงเก็บขอมูลต่อไปนี้ไว้ในตัวแปร list <br>\n",
    "เมื่อมีข้อมูลในเดือนถัดไปเพิ่มเข้ามาให้นำเข้าไปต่อใน list นี้ อย่างเช่น 1.30 <br>\n",
    "ให้แสดงผลข้อมูลจากน้อยไปมาก หลังจากที่มีการเพิ่มข้อมูลในเดือนใหม่แล้ว \n",
    "\n"
   ]
  },
  {
   "cell_type": "code",
   "execution_count": null,
   "metadata": {
    "collapsed": false,
    "metadata": {},
    "nbgrader": {
     "grade": false,
     "grade_id": "57c50f",
     "locked": false,
     "schema_version": 3,
     "solution": true,
     "task": false
    }
   },
   "outputs": [],
   "source": [
    "def exercise2():  \n",
    "    \"\"\"\n",
    "    Compute the squares of the numbers from 1 to n.  [replace with function description]\n",
    "    \"\"\"\n",
    "    lstIncome = [1.00,2.00,3.00,2.00,1.20, 1.35, 2.50, 3.11, 2.00, 2.15, 1.11, 1.42]\n",
    "    newIncome = 1.30\n",
    "    #===================================================\n",
    "    ### BEGIN SOLUTION\n",
    "    lstIncome.append(newIncome)\n",
    "    lstIncome.sort()\n",
    "    ### END SOLUTION\n",
    "    \n",
    "    \n",
    "    #===================================================\n",
    "    return lstIncome"
   ]
  },
  {
   "cell_type": "code",
   "execution_count": null,
   "metadata": {
    "collapsed": false,
    "metadata": {},
    "nbgrader": {
     "grade": true,
     "grade_id": "ea064d",
     "locked": true,
     "points": 1,
     "schema_version": 3,
     "solution": false,
     "task": false
    }
   },
   "outputs": [],
   "source": [
    "# [Modify the tests below for your own problem]\n",
    "# Check that squares returns the correct output for several inputs:\n",
    "from nose.tools import assert_equal\n",
    "assert_equal(exercise2()[12], 3.11)\n",
    "print(exercise2())\n",
    "\n",
    "### BEGIN HIDDEN TESTS\n",
    "# students will NOT see these extra tests\n",
    "assert_equal(exercise2(), [1.0, 1.11, 1.2, 1.3, 1.35, 1.42, 2.0, 2.0, 2.0, 2.15, 2.5, 3.0, 3.11])\n",
    "### END HIDDEN TESTS"
   ]
  }
 ],
 "metadata": {
  "kernelspec": {
   "argv": [
    "/usr/bin/python3",
    "-m",
    "ipykernel",
    "--HistoryManager.enabled=False",
    "--matplotlib=inline",
    "-c",
    "%config InlineBackend.figure_formats = set(['retina'])\nimport matplotlib; matplotlib.rcParams['figure.figsize'] = (12, 7)",
    "-f",
    "{connection_file}"
   ],
   "display_name": "Python 3 (system-wide)",
   "env": {},
   "language": "python",
   "metadata": {
    "cocalc": {
     "description": "Python 3 programming language",
     "priority": 100,
     "url": "https://www.python.org/"
    }
   },
   "name": "python3",
   "resource_dir": "/ext/jupyter/kernels/python3"
  },
  "language_info": {
   "codemirror_mode": {
    "name": "ipython",
    "version": 3
   },
   "file_extension": ".py",
   "mimetype": "text/x-python",
   "name": "python",
   "nbconvert_exporter": "python",
   "pygments_lexer": "ipython3",
   "version": "3.11.8"
  },
  "nbgrader": {
   "__altered": false,
   "__hash": 819565720,
   "_root": {
    "entries": [
     [
      "__altered",
      false
     ],
     [
      "__hash",
      340062583
     ],
     [
      "_root",
      {
       "entries": [
        [
         "__altered",
         false
        ],
        [
         "__hash",
         -781601060
        ],
        [
         "_root",
         {
          "entries": [
           [
            "size",
            5
           ],
           [
            "_root",
            {
             "entries": [
              [
               "__altered",
               false
              ],
              [
               "__hash",
               -1062824929
              ],
              [
               "_root",
               {
                "entries": [
                 [
                  "size",
                  1
                 ],
                 [
                  "_root",
                  {
                   "entries": [
                    [
                     "cocalc_minimal_stubs",
                     false
                    ]
                   ],
                   "ownerID": {}
                  }
                 ],
                 [
                  "__ownerID",
                  null
                 ],
                 [
                  "__hash",
                  -335098374
                 ],
                 [
                  "__altered",
                  false
                 ],
                 [
                  "cocalc_minimal_stubs",
                  false
                 ]
                ],
                "ownerID": {}
               }
              ],
              [
               "cocalc_minimal_stubs",
               false
              ],
              [
               "size",
               6
              ]
             ],
             "ownerID": {}
            }
           ],
           [
            "__hash",
            -1072767477
           ],
           [
            "__altered",
            false
           ],
           [
            "cocalc_minimal_stubs",
            false
           ]
          ],
          "ownerID": {}
         }
        ],
        [
         "cocalc_minimal_stubs",
         false
        ],
        [
         "size",
         5
        ]
       ],
       "ownerID": {}
      }
     ],
     [
      "cocalc_minimal_stubs",
      false
     ],
     [
      "size",
      5
     ]
    ],
    "ownerID": {}
   },
   "cocalc_minimal_stubs": false,
   "size": 5
  }
 },
 "nbformat": 4,
 "nbformat_minor": 4
}
