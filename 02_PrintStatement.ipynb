{
 "cells": [
  {
   "cell_type": "markdown",
   "metadata": {},
   "source": [
    "<a href=\"https://colab.research.google.com/github/toche7/BasicPython/blob/main/02_PrintStatement.ipynb\" target=\"_parent\"><img src=\"https://colab.research.google.com/assets/colab-badge.svg\" alt=\"Open In Colab\"/></a>"
   ]
  },
  {
   "cell_type": "markdown",
   "metadata": {
    "collapsed": false
   },
   "source": [
    "Notebook นี้พัฒนามาจาก <br>\n",
    "https://github.com/rajathkumarmp/Python-Lectures <br>\n",
    "https://gitlab.erc.monash.edu.au/andrease/Python4Maths/tree/master\n"
   ]
  },
  {
   "cell_type": "markdown",
   "metadata": {
    "collapsed": false
   },
   "source": [
    "# Lab 02: Print Statement\n",
    "\n"
   ]
  },
  {
   "cell_type": "markdown",
   "metadata": {
    "collapsed": false
   },
   "source": [
    "## ตรวจสอบตัวแปรด้วยคำสั่ง whos"
   ]
  },
  {
   "cell_type": "code",
   "execution_count": null,
   "metadata": {
    "collapsed": false,
    "metadata": {}
   },
   "outputs": [],
   "source": [
    "a = 10\n",
    "b = 20"
   ]
  },
  {
   "cell_type": "code",
   "execution_count": null,
   "metadata": {
    "collapsed": false,
    "metadata": {}
   },
   "outputs": [],
   "source": [
    "whos"
   ]
  },
  {
   "cell_type": "code",
   "execution_count": null,
   "metadata": {
    "collapsed": false
   },
   "outputs": [],
   "source": []
  },
  {
   "cell_type": "code",
   "execution_count": null,
   "metadata": {
    "collapsed": false,
    "metadata": {}
   },
   "outputs": [],
   "source": [
    "del a"
   ]
  },
  {
   "cell_type": "code",
   "execution_count": null,
   "metadata": {
    "cocalc": {
     "outputs": {
      "0": {
       "name": "input",
       "opts": {
        "password": false,
        "prompt": "Once deleted, variables cannot be recovered. Proceed (y/[n])? "
       },
       "output_type": "stream",
       "value": "y"
      }
     }
    },
    "collapsed": false,
    "metadata": {}
   },
   "outputs": [],
   "source": [
    "%reset"
   ]
  },
  {
   "cell_type": "code",
   "execution_count": null,
   "metadata": {
    "collapsed": false,
    "metadata": {}
   },
   "outputs": [],
   "source": [
    "whos"
   ]
  },
  {
   "cell_type": "markdown",
   "metadata": {
    "collapsed": false
   },
   "source": [
    "## พื้นฐานคำสั่ง Print\n",
    "\n"
   ]
  },
  {
   "cell_type": "markdown",
   "metadata": {
    "collapsed": false
   },
   "source": [
    "คำสั่ง **print** เป็นคำสั่งที่มีประโยชน์มาก ทั้งระหว่างการพัฒนาโปรแกรม และการนำไปใช้งาน เพราะจะเป็นคำสั่งใช้แสดงค่าออกให้เห็นได้ มีรูปแบบการใช้งานอยู่หลายวิธีด้วยกัน:\n",
    "\n",
    ">   print (\"Hello World\") <br>\n",
    "    print (\"Hello\", Variable Containing the String) <br>\n",
    "    print (\"Hello\" + Variable Containing the String) <br>\n",
    "    print (\"Hello %s\" % variable containing the string)"
   ]
  },
  {
   "cell_type": "code",
   "execution_count": null,
   "metadata": {
    "collapsed": false,
    "metadata": {}
   },
   "outputs": [],
   "source": [
    "print(\"Hello World\")"
   ]
  },
  {
   "cell_type": "code",
   "execution_count": null,
   "metadata": {
    "collapsed": false
   },
   "outputs": [],
   "source": []
  },
  {
   "cell_type": "code",
   "execution_count": null,
   "metadata": {
    "collapsed": false
   },
   "outputs": [],
   "source": []
  },
  {
   "cell_type": "code",
   "execution_count": null,
   "metadata": {
    "collapsed": false
   },
   "outputs": [],
   "source": []
  },
  {
   "cell_type": "markdown",
   "metadata": {
    "collapsed": false
   },
   "source": [
    "### การใช้ Quotes ในคำสั่ง print\n",
    "\n"
   ]
  },
  {
   "cell_type": "markdown",
   "metadata": {
    "collapsed": false
   },
   "source": [
    "ใน Python การใช้ฟันหนู หรือ quotes ทำได้หลายแบบเพื่อใช้กำหนด ตัวอักขระหรือข้อความ <br>\n",
    "การใช้ sigle quote นิยมใช้สำหรับการประกาศ 1 ตัวอักษร หรือ 1 คำ <br>\n",
    "การใช้ double quote นิยมใช้สำหรับการประกาศ 1 ประโยค หรือ 1 บรรทัด <br>\n",
    "การใช้ triple quote นิยมใช้สำหรับการประกาศ 1 ย่อหน้า \n",
    "\n"
   ]
  },
  {
   "cell_type": "code",
   "execution_count": null,
   "metadata": {
    "collapsed": false,
    "metadata": {}
   },
   "outputs": [],
   "source": [
    "print('Hey')"
   ]
  },
  {
   "cell_type": "code",
   "execution_count": null,
   "metadata": {
    "collapsed": false,
    "metadata": {}
   },
   "outputs": [],
   "source": [
    "print(\"\"\"My name is Rajath Kumar M.P.\n",
    "\n",
    "I love Python.\"\"\")"
   ]
  },
  {
   "cell_type": "code",
   "execution_count": null,
   "metadata": {
    "collapsed": false
   },
   "outputs": [],
   "source": []
  },
  {
   "cell_type": "code",
   "execution_count": null,
   "metadata": {
    "collapsed": false
   },
   "outputs": [],
   "source": []
  },
  {
   "cell_type": "code",
   "execution_count": null,
   "metadata": {
    "collapsed": false
   },
   "outputs": [],
   "source": []
  },
  {
   "cell_type": "markdown",
   "metadata": {
    "collapsed": false
   },
   "source": [
    "String \\(กลุ่มอักขระ\\) สามารถกำหนดให้กับตัวแปรเช่น _string1_ และ _string2_ และสามารถเรียกได้เมื่อใช้คำสั่งพิมพ์ \\(print\\)\n"
   ]
  },
  {
   "cell_type": "code",
   "execution_count": null,
   "metadata": {
    "collapsed": false,
    "metadata": {},
    "scrolled": true
   },
   "outputs": [],
   "source": [
    "string1 = 'World'\n",
    "print('Hello', string1)\n",
    "\n",
    "string2 = '!'\n",
    "print('Hello', string1, string2)"
   ]
  },
  {
   "cell_type": "code",
   "execution_count": null,
   "metadata": {
    "collapsed": false
   },
   "outputs": [],
   "source": []
  },
  {
   "cell_type": "code",
   "execution_count": null,
   "metadata": {
    "collapsed": false
   },
   "outputs": [],
   "source": []
  },
  {
   "cell_type": "code",
   "execution_count": null,
   "metadata": {
    "collapsed": false
   },
   "outputs": [],
   "source": []
  },
  {
   "cell_type": "markdown",
   "metadata": {
    "collapsed": false
   },
   "source": [
    "String สามารถนำมาต่อด้วยกันได้ด้วยการบวก สังเกตุว่า การต่อกันนี้จะไม่มีช่องว่างระหว่าง string ที่นำมาต่อกัน ซึ่งจะแตกต่างจากตัวอย่างก่อนหน้านี้  "
   ]
  },
  {
   "cell_type": "code",
   "execution_count": null,
   "metadata": {
    "collapsed": false,
    "metadata": {}
   },
   "outputs": [],
   "source": [
    "print('Hello' + string1 + string2)"
   ]
  },
  {
   "cell_type": "code",
   "execution_count": null,
   "metadata": {
    "collapsed": false
   },
   "outputs": [],
   "source": []
  },
  {
   "cell_type": "code",
   "execution_count": null,
   "metadata": {
    "collapsed": false
   },
   "outputs": [],
   "source": []
  },
  {
   "cell_type": "markdown",
   "metadata": {
    "collapsed": false
   },
   "source": [
    "### **เครื่องหมาย % ใน class string**\n",
    "\n"
   ]
  },
  {
   "cell_type": "markdown",
   "metadata": {
    "collapsed": false
   },
   "source": [
    "เครื่องหมาย % ในการใช้ร่วมกับ string นั้น จะเป็นการอ้างอิงการเขียนที่เป็นตัวแปรที่แทรกอยู่ใน ​string เพื่อความยืดหยุ่นในการเขียน เช่นตัวอย่างด้านล่าง print\\(\"Hello %s\" % string1\\)   %s  จะแทนค่าด้วยข้อมูลที่อยู่ในตัวแปร srting1 โดยจะถูกแปลงไป string ก่อนการแสดงค่า\n"
   ]
  },
  {
   "cell_type": "code",
   "execution_count": null,
   "metadata": {
    "collapsed": false,
    "metadata": {}
   },
   "outputs": [],
   "source": [
    "print(\"Hello %s\" % string1)"
   ]
  },
  {
   "cell_type": "code",
   "execution_count": null,
   "metadata": {
    "collapsed": false
   },
   "outputs": [],
   "source": []
  },
  {
   "cell_type": "code",
   "execution_count": null,
   "metadata": {
    "collapsed": false
   },
   "outputs": [],
   "source": []
  },
  {
   "cell_type": "code",
   "execution_count": null,
   "metadata": {
    "collapsed": false
   },
   "outputs": [],
   "source": []
  },
  {
   "cell_type": "code",
   "execution_count": null,
   "metadata": {
    "collapsed": false
   },
   "outputs": [],
   "source": []
  },
  {
   "cell_type": "markdown",
   "metadata": {
    "collapsed": false
   },
   "source": [
    "## Other Examples\n",
    "\n"
   ]
  },
  {
   "cell_type": "markdown",
   "metadata": {
    "collapsed": false
   },
   "source": [
    "ต่อไปนี้เป็นวิธีต่างๆ ที่สามารถนำไปใช้กับคำสั่ง **print** ได้"
   ]
  },
  {
   "cell_type": "code",
   "execution_count": null,
   "metadata": {
    "collapsed": false,
    "metadata": {}
   },
   "outputs": [],
   "source": [
    "print (\"I want %%d to be printed %s\" %'here')"
   ]
  },
  {
   "cell_type": "code",
   "execution_count": null,
   "metadata": {
    "collapsed": false,
    "metadata": {}
   },
   "outputs": [],
   "source": [
    "print('_A'*10)"
   ]
  },
  {
   "cell_type": "code",
   "execution_count": null,
   "metadata": {
    "collapsed": false,
    "metadata": {}
   },
   "outputs": [],
   "source": [
    "print(\"Jan\\nFeb\\nMar\\nApr\\nMay\\nJun\\nJul\\nAug\")"
   ]
  },
  {
   "cell_type": "code",
   "execution_count": null,
   "metadata": {
    "collapsed": false,
    "metadata": {}
   },
   "outputs": [],
   "source": [
    "print(\"I want \\\\n to be printed.\")"
   ]
  },
  {
   "cell_type": "code",
   "execution_count": null,
   "metadata": {
    "collapsed": false,
    "metadata": {}
   },
   "outputs": [],
   "source": [
    "print(\"\"\"\n",
    "Routine:\n",
    "\\t- Eat\n",
    "\\t- Sleep\\n\\t- Repeat\n",
    "\"\"\")"
   ]
  },
  {
   "cell_type": "markdown",
   "metadata": {
    "collapsed": false
   },
   "source": [
    "### F-String ลูกเล่นใน Python"
   ]
  },
  {
   "cell_type": "code",
   "execution_count": null,
   "metadata": {
    "collapsed": false,
    "metadata": {}
   },
   "outputs": [],
   "source": [
    "a_age = 25\n",
    "print(a_age)\n",
    "a_gender = 'male'"
   ]
  },
  {
   "cell_type": "code",
   "execution_count": null,
   "metadata": {
    "collapsed": false,
    "metadata": {}
   },
   "outputs": [],
   "source": [
    "print(\"Mr.A is \" + a_age + \" years old.\")"
   ]
  },
  {
   "cell_type": "code",
   "execution_count": null,
   "metadata": {
    "collapsed": false,
    "metadata": {}
   },
   "outputs": [],
   "source": [
    "print(\"Mr.A is \" + str(a_age) + \" years old.\")"
   ]
  },
  {
   "cell_type": "code",
   "execution_count": null,
   "metadata": {
    "collapsed": false
   },
   "outputs": [],
   "source": []
  },
  {
   "cell_type": "code",
   "execution_count": null,
   "metadata": {
    "collapsed": false,
    "metadata": {}
   },
   "outputs": [],
   "source": [
    "print(f\"Mr.A is {a_age} years old.\")"
   ]
  },
  {
   "cell_type": "code",
   "execution_count": null,
   "metadata": {
    "collapsed": false,
    "metadata": {}
   },
   "outputs": [],
   "source": [
    "company_value = 1405940204920\n",
    "print(format(company_value, ',d'))"
   ]
  },
  {
   "cell_type": "code",
   "execution_count": null,
   "metadata": {
    "collapsed": false,
    "metadata": {}
   },
   "outputs": [],
   "source": [
    "print(f\"The value of the company is {company_value:,d}\")"
   ]
  },
  {
   "cell_type": "code",
   "execution_count": null,
   "metadata": {
    "collapsed": false
   },
   "outputs": [],
   "source": []
  },
  {
   "cell_type": "markdown",
   "metadata": {
    "collapsed": false
   },
   "source": [
    "## Exercise"
   ]
  },
  {
   "cell_type": "markdown",
   "metadata": {
    "collapsed": false
   },
   "source": [
    "### Ex 1  \n",
    "\n",
    "จงเขียนโปรแกรมที่แสดง \"Hello Python\" จำนวน 50 ครั้งโดย ดังนี้\n",
    "\n",
    "Hello Python Hello Python Hello Python Hello Python Hello Python Hello Python Hello Python Hello Python Hello Python Hello Python Hello Python Hello Python Hello Python Hello Python Hello Python Hello Python Hello Python Hello Python Hello Python Hello Python Hello Python Hello Python Hello Python Hello Python Hello Python Hello Python Hello Python Hello Python Hello Python Hello Python Hello Python Hello Python Hello Python Hello Python Hello Python Hello Python Hello Python Hello Python Hello Python Hello Python Hello Python Hello Python Hello Python Hello Python Hello Python Hello Python Hello Python Hello Python Hello Python Hello Python\n",
    "\n"
   ]
  },
  {
   "cell_type": "code",
   "execution_count": null,
   "metadata": {},
   "outputs": [],
   "source": []
  },
  {
   "cell_type": "markdown",
   "metadata": {
    "collapsed": false
   },
   "source": [
    "### E2\n",
    "ครอบครัวหนึ่งมีลูก 3 คนและต้องการแบ่งมรดกให้ลูกเท่าๆ กัน โดยมีมรดกอยู่ 500 ล้านบาท โดยลูกจะต้องจ่ายภาษีส่วนที่เกิน 100 ล้านบาทที่ 5%  จงแสดงค่าเงินที่ต้องจ่ายภาษีออกมา\n",
    "\n"
   ]
  },
  {
   "cell_type": "code",
   "execution_count": null,
   "metadata": {
    "collapsed": false
   },
   "outputs": [],
   "source": []
  }
 ],
 "metadata": {
  "kernelspec": {
   "argv": [
    "/usr/bin/python3",
    "-m",
    "ipykernel",
    "--HistoryManager.enabled=False",
    "--matplotlib=inline",
    "-c",
    "%config InlineBackend.figure_formats = set(['retina'])\nimport matplotlib; matplotlib.rcParams['figure.figsize'] = (12, 7)",
    "-f",
    "{connection_file}"
   ],
   "display_name": "Python 3 (system-wide)",
   "env": {},
   "language": "python",
   "metadata": {
    "cocalc": {
     "description": "Python 3 programming language",
     "priority": 100,
     "url": "https://www.python.org/"
    }
   },
   "name": "python3",
   "resource_dir": "/ext/jupyter/kernels/python3"
  },
  "language_info": {
   "codemirror_mode": {
    "name": "ipython",
    "version": 3
   },
   "file_extension": ".py",
   "mimetype": "text/x-python",
   "name": "python",
   "nbconvert_exporter": "python",
   "pygments_lexer": "ipython3",
   "version": "3.11.8"
  },
  "nbgrader": {
   "__altered": false,
   "__hash": 823748676,
   "_root": {
    "entries": [
     [
      "size",
      5
     ],
     [
      "_root",
      {
       "entries": [
        [
         "size",
         5
        ],
        [
         "_root",
         {
          "entries": [
           [
            "__altered",
            false
           ],
           [
            "__hash",
            -660479966
           ],
           [
            "_root",
            {
             "entries": [
              [
               "size",
               5
              ],
              [
               "_root",
               {
                "entries": [
                 [
                  "__altered",
                  false
                 ],
                 [
                  "__hash",
                  439970229
                 ],
                 [
                  "_root",
                  {
                   "entries": [
                    [
                     "size",
                     5
                    ],
                    [
                     "_root",
                     {
                      "entries": [
                       [
                        "__altered",
                        false
                       ],
                       [
                        "__hash",
                        -335098374
                       ],
                       [
                        "_root",
                        {
                         "entries": [
                          [
                           "cocalc_minimal_stubs",
                           false
                          ]
                         ],
                         "ownerID": {}
                        }
                       ],
                       [
                        "cocalc_minimal_stubs",
                        false
                       ],
                       [
                        "size",
                        1
                       ]
                      ],
                      "ownerID": {}
                     }
                    ],
                    [
                     "__hash",
                     1043241747
                    ],
                    [
                     "__altered",
                     false
                    ],
                    [
                     "cocalc_minimal_stubs",
                     false
                    ]
                   ],
                   "ownerID": {}
                  }
                 ],
                 [
                  "cocalc_minimal_stubs",
                  false
                 ],
                 [
                  "size",
                  5
                 ]
                ],
                "ownerID": {}
               }
              ],
              [
               "__hash",
               -588483694
              ],
              [
               "__altered",
               false
              ],
              [
               "cocalc_minimal_stubs",
               false
              ]
             ],
             "ownerID": {}
            }
           ],
           [
            "cocalc_minimal_stubs",
            false
           ],
           [
            "size",
            5
           ]
          ],
          "ownerID": {}
         }
        ],
        [
         "__hash",
         -341210704
        ],
        [
         "__altered",
         false
        ],
        [
         "cocalc_minimal_stubs",
         false
        ]
       ],
       "ownerID": {}
      }
     ],
     [
      "__hash",
      -1044133028
     ],
     [
      "__altered",
      false
     ],
     [
      "cocalc_minimal_stubs",
      false
     ]
    ],
    "ownerID": {}
   },
   "cocalc_minimal_stubs": false,
   "size": 5
  }
 },
 "nbformat": 4,
 "nbformat_minor": 4
}
