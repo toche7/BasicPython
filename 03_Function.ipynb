{
 "cells": [
  {
   "cell_type": "markdown",
   "metadata": {},
   "source": [
    "<a href=\"https://colab.research.google.com/github/toche7/BasicPython/blob/main/03_Function.ipynb\" target=\"_parent\"><img src=\"https://colab.research.google.com/assets/colab-badge.svg\" alt=\"Open In Colab\"/></a>"
   ]
  },
  {
   "cell_type": "markdown",
   "metadata": {
    "collapsed": false
   },
   "source": [
    "# Lab 03: Functions\n",
    "\n",
    "v3\n",
    "\n",
    "Notebook นี้พัฒนามาจาก\n",
    "\n",
    "[https://github.com/rajathkumarmp/Python\\-Lectures](https://github.com/rajathkumarmp/Python-Lectures)\n",
    "\n",
    "https://gitlab.erc.monash.edu.au/andrease/Python4Maths/tree/master\n",
    "\n"
   ]
  },
  {
   "cell_type": "markdown",
   "metadata": {
    "collapsed": false
   },
   "source": [
    "บ่อยครั้งในการพัฒนาโปรแกรม ชุดคำสั่งที่ใช้ทำงานอย่างใดอย่างหนึ่งจะถูกเรียกใช้งานซ้ำๆ  การเขียนชุดคำสั่งซ้ำนี้จะเป็นเรื่องที่น่าเบื่อและเป็นการใช้หน่วยความจำแบบไม่ประสิทธิภาพ จึงทำให้เกิดแนวคิดของการเขียนเป็น Functions ขึ้นเพื่อการถูกเรียกใช้งานซ้ำๆ โดยไม่ต้องเขียนชุดคำสั่งใหม่ทั้งหมด \n"
   ]
  },
  {
   "cell_type": "markdown",
   "metadata": {
    "collapsed": false
   },
   "source": [
    "สำหรับโครงสร้างในการเขียน Function เป็นดังนี้\n",
    "\n",
    "```\n",
    "def funcname(arg1, arg2,... argN):\n",
    "    ''' Document String'''\n",
    "    statements\n",
    "    return value\n",
    "```\n",
    "\n"
   ]
  },
  {
   "cell_type": "markdown",
   "metadata": {
    "collapsed": false
   },
   "source": [
    "จากโครงสร้างการเขียนโปรแกรมด้านบน  function นี้จะมีชื่อว่า \"funcname\"  โดยจะมีการรับตัวแปร input เป็น arg1,arg2,....argN  \n",
    "\n",
    "ในฟังก์ชันนี้เราจะมีข้อมูลประกอบการใช้งานอยู่ใน \"Document String\" \n",
    "\n",
    "ส่วนการทำงานของฟังก์ชันจะอยู่ในบริเวณ statements\n",
    "\n",
    "และมีการคืนค่ากลับมาในส่วนของ value\n",
    "\n"
   ]
  },
  {
   "cell_type": "code",
   "execution_count": null,
   "metadata": {
    "collapsed": false,
    "metadata": {}
   },
   "outputs": [],
   "source": [
    "print (\"Hey Tom!\")\n",
    "print (\"Tom, How do you do?\")"
   ]
  },
  {
   "cell_type": "markdown",
   "metadata": {
    "collapsed": false
   },
   "source": [
    "แทนที่จะเขียน 2 ชุดคำสั่งนี้ทุกครั้งที่จะเรียกใช้ เราจะทำการสร้างเป็น function เพื่อการเรียกใช้จะได้เรียกใช้เพียงคำสั่งเดียว ดังนี้ \n"
   ]
  },
  {
   "cell_type": "code",
   "execution_count": null,
   "metadata": {
    "collapsed": false,
    "metadata": {}
   },
   "outputs": [],
   "source": [
    "def firstfunc():\n",
    "    print (\"Hey Tom!\")\n",
    "    print (\"Tom, How do you do?\")"
   ]
  },
  {
   "cell_type": "code",
   "execution_count": null,
   "metadata": {
    "collapsed": false,
    "metadata": {}
   },
   "outputs": [],
   "source": [
    "firstfunc()"
   ]
  },
  {
   "cell_type": "markdown",
   "metadata": {
    "collapsed": false
   },
   "source": [
    "เพื่อให้ฟังก์ชัน **firstfunc\\(\\)** สามารถใช้ทักทายบุคคลใดๆ เราจะทำการปรับปรุงฟังก์ชัน **firstfunc\\(\\)** ให้มีตัวแปร \\(arguments\\) เพื่อรับค่าชื่อบุคคลที่เราต้องการทักทายด้วยฟังก์ชันนี ซึ่งสามารถทำได้ดังนี้\n"
   ]
  },
  {
   "cell_type": "code",
   "execution_count": null,
   "metadata": {
    "collapsed": false,
    "metadata": {}
   },
   "outputs": [],
   "source": [
    "def firstfunc(username):\n",
    "    print (\"Hey\", username + '!')\n",
    "    print (username + ',' ,\"How do you do?\")"
   ]
  },
  {
   "cell_type": "code",
   "execution_count": null,
   "metadata": {
    "collapsed": false,
    "metadata": {}
   },
   "outputs": [],
   "source": [
    "name1 = 'Jon' #  input('Please enter your name : ')"
   ]
  },
  {
   "cell_type": "markdown",
   "metadata": {
    "collapsed": false
   },
   "source": [
    "คำว่า \"Jon\" จะถูกเก็บไว้ในตัวแปร name1 แล้วหลังจากนั้นจะถูกส่งผ่านไปฟังก์ชัน **firstfunc\\(\\)** ในตัวแปร username \n"
   ]
  },
  {
   "cell_type": "code",
   "execution_count": null,
   "metadata": {
    "collapsed": false,
    "metadata": {}
   },
   "outputs": [],
   "source": [
    "firstfunc(name1)"
   ]
  },
  {
   "cell_type": "markdown",
   "metadata": {
    "collapsed": false
   },
   "source": [
    "เราทำการปรับปรุงฟังก์ชันให้มีความสามารถมากขึ้นด้วยการที่สามารถถามหาชื่อ และถูกเรียกใช้ในคำสั่ง **firstfunc\\(\\)** อีกครั้งหนึ่ง ดังนี้\n"
   ]
  },
  {
   "cell_type": "code",
   "execution_count": null,
   "metadata": {
    "collapsed": false,
    "metadata": {}
   },
   "outputs": [],
   "source": [
    "def firstfunc(username):\n",
    "    print (\"Hey\", username + '!')\n",
    "    print (username + ',' ,\"How do you do?\")\n",
    "def secondfunc():\n",
    "    name = input(\"Please enter your name : \")\n",
    "    firstfunc(name)"
   ]
  },
  {
   "cell_type": "code",
   "execution_count": null,
   "metadata": {
    "cocalc": {
     "outputs": {
      "0": {
       "name": "input",
       "opts": {
        "password": false,
        "prompt": "Please enter your name : "
       },
       "output_type": "stream",
       "value": "Jon"
      }
     }
    },
    "collapsed": false,
    "metadata": {}
   },
   "outputs": [],
   "source": [
    "secondfunc()"
   ]
  },
  {
   "cell_type": "markdown",
   "metadata": {
    "collapsed": false
   },
   "source": [
    "<span style='color:#03a9f4'>เขียนฟังก์ชันเพื่อรับข้อมูลเพิ่มเติมเรื่องตำแหน่งงานและชื่อบริษัท</span>\n"
   ]
  },
  {
   "cell_type": "code",
   "execution_count": null,
   "metadata": {
    "collapsed": false
   },
   "outputs": [],
   "source": []
  },
  {
   "cell_type": "code",
   "execution_count": null,
   "metadata": {
    "collapsed": false
   },
   "outputs": [],
   "source": []
  },
  {
   "cell_type": "code",
   "execution_count": null,
   "metadata": {
    "collapsed": false
   },
   "outputs": [],
   "source": []
  },
  {
   "cell_type": "markdown",
   "metadata": {
    "collapsed": false
   },
   "source": [
    "## Return Statement\n",
    "\n"
   ]
  },
  {
   "cell_type": "markdown",
   "metadata": {
    "collapsed": false
   },
   "source": [
    "เมื่อฟังก์ชันให้ผลลัพธ์เป็นค่าบางค่าและค่านั้นต้องเก็บไว้ในตัวแปร หรือต้องส่งกลับหรือส่งกลับเพื่อดำเนินการต่อไปยังอัลกอริทึมหลัก จะใช้คำสั่ง return\n"
   ]
  },
  {
   "cell_type": "code",
   "execution_count": null,
   "metadata": {
    "collapsed": false,
    "metadata": {}
   },
   "outputs": [],
   "source": [
    "def times(x,y):\n",
    "    z = x*y\n",
    "    return z"
   ]
  },
  {
   "cell_type": "markdown",
   "metadata": {
    "collapsed": false
   },
   "source": [
    "ฟังก์ชัน times\\(\\) ที่กำหนดไว้ข้างต้นยอมรับสอง input และส่งคืนตัวแปร z ซึ่งมีผลลัพธ์ของผลคูณของ input สองตัว\n"
   ]
  },
  {
   "cell_type": "code",
   "execution_count": null,
   "metadata": {
    "collapsed": false,
    "metadata": {}
   },
   "outputs": [],
   "source": [
    "c = times(4,5)\n",
    "print(c)"
   ]
  },
  {
   "cell_type": "markdown",
   "metadata": {
    "collapsed": false
   },
   "source": [
    "ค่า z ถูกเก็บไว้ในตัวแปร c และสามารถนำไปใช้ในการดำเนินการต่อไปได้\n"
   ]
  },
  {
   "cell_type": "markdown",
   "metadata": {
    "collapsed": false
   },
   "source": [
    "แทนที่จะประกาศตัวแปรอื่น คำสั่งทั้งหมดสามารถใช้ในคำสั่ง return ดังที่แสดง\n"
   ]
  },
  {
   "cell_type": "code",
   "execution_count": null,
   "metadata": {
    "collapsed": false,
    "metadata": {}
   },
   "outputs": [],
   "source": [
    "def times(x,y):\n",
    "    '''This multiplies the two input arguments'''\n",
    "    return x*y"
   ]
  },
  {
   "cell_type": "code",
   "execution_count": null,
   "metadata": {
    "collapsed": false,
    "metadata": {}
   },
   "outputs": [],
   "source": [
    "c = times(4,5)\n",
    "print(c)"
   ]
  },
  {
   "cell_type": "markdown",
   "metadata": {
    "collapsed": false
   },
   "source": [
    "เนื่องจาก times\\(\\) ถูกกำหนดไว้แล้ว เราให้คำอธิบายการทำงานของฟังก์ชันดังที่แสดงด้านบน คำอธิบายนี้จะถูกส่งกลับทุกครั้งที่เรียกใช้ฟังก์ชัน times\\( \\) ภายใต้ฟังก์ชัน help\\( \\)\n"
   ]
  },
  {
   "cell_type": "code",
   "execution_count": null,
   "metadata": {
    "collapsed": false,
    "metadata": {}
   },
   "outputs": [],
   "source": [
    "help(times)"
   ]
  },
  {
   "cell_type": "code",
   "execution_count": null,
   "metadata": {
    "collapsed": false
   },
   "outputs": [],
   "source": []
  },
  {
   "cell_type": "markdown",
   "metadata": {
    "collapsed": false
   },
   "source": [
    "เราสามารถส่งค่าหลายตัวแปรออกมาจากฟังก์ชันได้ แต่ต้องจำเรื่องลำดับการส่งค่าออกมาด้วย   \n",
    "\n"
   ]
  },
  {
   "cell_type": "code",
   "execution_count": null,
   "metadata": {
    "collapsed": false,
    "metadata": {}
   },
   "outputs": [],
   "source": [
    "num = [10,50,30,12,6,8,100]"
   ]
  },
  {
   "cell_type": "code",
   "execution_count": null,
   "metadata": {
    "collapsed": false,
    "metadata": {}
   },
   "outputs": [],
   "source": [
    "def egfunc(lst):\n",
    "    highest = max(lst)\n",
    "    lowest = min(lst)\n",
    "    first = lst[0]\n",
    "    last = lst[-1]\n",
    "    return highest,lowest,first,last"
   ]
  },
  {
   "cell_type": "markdown",
   "metadata": {
    "collapsed": false
   },
   "source": [
    "ถ้าฟังก์ชันถูกเรียกใช้โดยไม่มีตัวแปรเพื่อรับค่าที่จะกำหนดให้ ผลลัพธ์จะถูกส่งกลับภายในทูเพิล แต่ถ้ามีการกล่าวถึงตัวแปร ผลลัพธ์จะถูกกำหนดให้กับตัวแปรในลำดับเฉพาะซึ่งประกาศไว้ในคำสั่ง return\n"
   ]
  },
  {
   "cell_type": "code",
   "execution_count": null,
   "metadata": {
    "collapsed": false,
    "metadata": {}
   },
   "outputs": [],
   "source": [
    "egfunc(num)"
   ]
  },
  {
   "cell_type": "code",
   "execution_count": null,
   "metadata": {
    "collapsed": false,
    "metadata": {}
   },
   "outputs": [],
   "source": [
    "a,b,c,d = egfunc(num)\n",
    "print (' a =',a,'\\n b =',b,'\\n c =',c,'\\n d =',d)"
   ]
  },
  {
   "cell_type": "markdown",
   "metadata": {
    "collapsed": false
   },
   "source": [
    "<span style='color:#03a9f4'>จงเขียนโปรแกรมเพื่อบวกและคูณเลขที่อยู่ใน list ที่ส่งมา</span>\n"
   ]
  },
  {
   "cell_type": "code",
   "execution_count": null,
   "metadata": {
    "collapsed": false
   },
   "outputs": [],
   "source": []
  },
  {
   "cell_type": "code",
   "execution_count": null,
   "metadata": {
    "collapsed": false
   },
   "outputs": [],
   "source": []
  },
  {
   "cell_type": "code",
   "execution_count": null,
   "metadata": {
    "collapsed": false
   },
   "outputs": [],
   "source": []
  },
  {
   "cell_type": "markdown",
   "metadata": {
    "collapsed": false
   },
   "source": [
    "## Implicit arguments\n",
    "\n"
   ]
  },
  {
   "cell_type": "markdown",
   "metadata": {
    "collapsed": false
   },
   "source": [
    "เมื่อตัวแปร input ของฟังก์ชันมีค่าที่กรณีส่วนใหญ่ที่ต้องใช้  แนวคิดเรื่อง โดยนัย \\(implicit\\) จะถูกใช้งาน\n"
   ]
  },
  {
   "cell_type": "code",
   "execution_count": null,
   "metadata": {
    "collapsed": false,
    "metadata": {}
   },
   "outputs": [],
   "source": [
    "def implicitadd(x,y=3,z=0):\n",
    "    print(\"%d + %d + %d = %d\"%(x,y,z,x+y+z))\n",
    "    return x+y+z"
   ]
  },
  {
   "cell_type": "markdown",
   "metadata": {
    "collapsed": false
   },
   "source": [
    "**implicitadd\\( \\)** เป็นฟังก์ชันที่รับค่าตัวแปร input 2 ตัว ซึ่งโดยปกติแล้วตัวแปรตัวแรกจะถูกบวกด้วย 3  ดังนั้นตัวแปรตัวที่สองจะถูกหนดค่าตั้งต้นเป็น 3 ซึ่งตัวแปรตัวที 2 นี้จะมีเป็นการกำหนดแบบ โดยนัย หรือ implicit \n"
   ]
  },
  {
   "cell_type": "markdown",
   "metadata": {
    "collapsed": false
   },
   "source": [
    "หากตัวแปรตัวที่ 2 และ 3 ไม่ได้มีการกำหนดค่าในการเรียกใช้ฟังก์ชัน **implicitadd\\( \\)** ตัวแปรตัวที่ 2 และ 3  ก็ใช้ค่า 3 และ 0 ในการดำเนินการ \n"
   ]
  },
  {
   "cell_type": "code",
   "execution_count": null,
   "metadata": {
    "collapsed": false,
    "metadata": {}
   },
   "outputs": [],
   "source": [
    "implicitadd(4)"
   ]
  },
  {
   "cell_type": "markdown",
   "metadata": {
    "collapsed": false
   },
   "source": [
    "แต่ถ้ากรณีที่ตัวแปรที่ 2 และ 3 มีการหนดค่าในตอนเรียกใช้ฟังก์ชัน ค่านี้ก็จะถูกนำไปใช้งานในฟังก์ชัน  นอกจากนั้นแล้ววิธีการเรียกใช้ก็ทำได้หลายรูปแบบดังนี้\n"
   ]
  },
  {
   "cell_type": "code",
   "execution_count": null,
   "metadata": {
    "collapsed": false,
    "metadata": {}
   },
   "outputs": [],
   "source": [
    "implicitadd(4,4)\n",
    "implicitadd(4,5,6)\n",
    "implicitadd(4,z=7)\n",
    "implicitadd(2,y=1,z=9)\n",
    "implicitadd(2,z=9,y =1)\n",
    "implicitadd(x=1)"
   ]
  },
  {
   "cell_type": "markdown",
   "metadata": {
    "collapsed": false
   },
   "source": [
    "<span style='color:#03a9f4'>จงเขียนโปรแกรมเพื่อคูณเลขจำนวน 4 ตัว โดยมีการกำหนดค่าเริ่มต้น  3 ตัวแรกเป็น 1 2 3 ตามลำดับ</span>\n"
   ]
  },
  {
   "cell_type": "code",
   "execution_count": null,
   "metadata": {
    "collapsed": false
   },
   "outputs": [],
   "source": []
  },
  {
   "cell_type": "code",
   "execution_count": null,
   "metadata": {
    "collapsed": false
   },
   "outputs": [],
   "source": []
  },
  {
   "cell_type": "code",
   "execution_count": null,
   "metadata": {
    "collapsed": false
   },
   "outputs": [],
   "source": []
  },
  {
   "cell_type": "markdown",
   "metadata": {
    "collapsed": false
   },
   "source": [
    "## Any number of arguments\n",
    "\n"
   ]
  },
  {
   "cell_type": "markdown",
   "metadata": {
    "collapsed": false
   },
   "source": [
    "หากไม่ทราบจำนวนของตัวแปรที่ฟังก์ชันจะยอมรับได้ ให้ใช้สัญลักษณ์ดอกจันนำหน้าตัวแปร\n"
   ]
  },
  {
   "cell_type": "code",
   "execution_count": null,
   "metadata": {
    "collapsed": false,
    "metadata": {}
   },
   "outputs": [],
   "source": [
    "def add_n(*args):\n",
    "    res = 0\n",
    "    reslist = list(args)\n",
    "    return sum(reslist)"
   ]
  },
  {
   "cell_type": "code",
   "execution_count": null,
   "metadata": {
    "collapsed": false,
    "metadata": {}
   },
   "outputs": [],
   "source": [
    "add_n(1,2,3)"
   ]
  },
  {
   "cell_type": "markdown",
   "metadata": {
    "collapsed": false
   },
   "source": [
    "ฟังก์ชันด้านบนจะสามารถรับตัวแปรกี่ตัวก็ได้  โดยผลลัพธ์จะเป็นค่าผลรวมส่งกลับออกมา\n"
   ]
  },
  {
   "cell_type": "code",
   "execution_count": null,
   "metadata": {
    "collapsed": false,
    "metadata": {}
   },
   "outputs": [],
   "source": [
    "add_n(1,2,3,4,5)"
   ]
  },
  {
   "cell_type": "code",
   "execution_count": null,
   "metadata": {
    "collapsed": false,
    "metadata": {}
   },
   "outputs": [],
   "source": [
    "add_n(1,2,3)"
   ]
  },
  {
   "cell_type": "markdown",
   "metadata": {
    "collapsed": false
   },
   "source": [
    "<span style='color:#03a9f4'>จงเขียนโปรแกรมที่สามารถนำเอาค่าที่ส่งเข้ามาคูณกันและส่งค่ากลับออกมา  แนะนำให้ for loop ในการคูณค่าตัวเลขใน list</span>\n"
   ]
  },
  {
   "cell_type": "code",
   "execution_count": null,
   "metadata": {
    "collapsed": false
   },
   "outputs": [],
   "source": []
  },
  {
   "cell_type": "code",
   "execution_count": null,
   "metadata": {
    "collapsed": false
   },
   "outputs": [],
   "source": []
  },
  {
   "cell_type": "code",
   "execution_count": null,
   "metadata": {
    "collapsed": false
   },
   "outputs": [],
   "source": []
  },
  {
   "cell_type": "markdown",
   "metadata": {
    "collapsed": false
   },
   "source": [
    "## Global and Local Variables\n",
    "\n"
   ]
  },
  {
   "cell_type": "markdown",
   "metadata": {
    "collapsed": false
   },
   "source": [
    "เมื่อมีการประกาศใช้ตัวแปรภายในฟังก์ชัน ตัวแปรนั้นจะถูกเรียกว่าเป็น local variable และถ้าหากมีการประกาศตัวแปรภายนอกฟังก์ชันตัวแปรนั้นจะเป็น global variable\n"
   ]
  },
  {
   "cell_type": "code",
   "execution_count": null,
   "metadata": {
    "collapsed": false,
    "metadata": {}
   },
   "outputs": [],
   "source": [
    "eg1 = [1,2,3,4,5]"
   ]
  },
  {
   "cell_type": "code",
   "execution_count": null,
   "metadata": {
    "collapsed": false,
    "metadata": {}
   },
   "outputs": [],
   "source": [
    " def egfunc1():\n",
    "    x=1\n",
    "    def thirdfunc():\n",
    "        x=2\n",
    "        print(\"Inside thirdfunc x =\", x) \n",
    "    thirdfunc()\n",
    "    print(\"Outside x =\", x)"
   ]
  },
  {
   "cell_type": "code",
   "execution_count": null,
   "metadata": {
    "collapsed": false,
    "metadata": {}
   },
   "outputs": [],
   "source": [
    "x=12\n",
    "egfunc1()\n",
    "print(\"Global x =\",x)"
   ]
  },
  {
   "cell_type": "code",
   "execution_count": null,
   "metadata": {
    "collapsed": false
   },
   "outputs": [],
   "source": []
  },
  {
   "cell_type": "markdown",
   "metadata": {
    "collapsed": false
   },
   "source": [
    "# Lambda Functions"
   ]
  },
  {
   "cell_type": "markdown",
   "metadata": {
    "collapsed": false
   },
   "source": [
    "ใน python จะมีฟังก์ชันขนาดเล็กที่ไม่จำเป็นต้องตั้งชื่อฟังก์ชันและสามารถทำเสร็จภายใน 1 บรรทัด ซึ่งถูกเรียกว่า Lambda function  วิธีการใช้งาน lambda ฟังก์ชันเป็นดังตัวอย่างด้านล่างนี้ \n"
   ]
  },
  {
   "cell_type": "code",
   "execution_count": null,
   "metadata": {
    "collapsed": false,
    "metadata": {}
   },
   "outputs": [],
   "source": [
    "z = lambda x: x * x"
   ]
  },
  {
   "cell_type": "code",
   "execution_count": null,
   "metadata": {
    "collapsed": false,
    "metadata": {}
   },
   "outputs": [],
   "source": [
    "z(8)"
   ]
  },
  {
   "cell_type": "markdown",
   "metadata": {
    "collapsed": false
   },
   "source": [
    "จากตัวอย่างการสร้าง lambda function ดำเนินการใช้คำสั่ง lambda ตามด้วยตัวแปรและ colon แล้วตามด้วย ชุดคำสั่งที่ดำเนินการ\n"
   ]
  },
  {
   "cell_type": "code",
   "execution_count": null,
   "metadata": {
    "collapsed": false,
    "metadata": {}
   },
   "outputs": [],
   "source": [
    "mul = lambda x,y: x*y\n",
    "mul(10,20)"
   ]
  },
  {
   "cell_type": "markdown",
   "metadata": {
    "collapsed": false
   },
   "source": [
    "<span style='color:#03a9f4'>จงเขียนโปรแกรมเพื่อคำนวณหาค่าพื้นที่ 3 เหลี่ยมด้วย  lambda function</span>\n"
   ]
  },
  {
   "cell_type": "code",
   "execution_count": null,
   "metadata": {
    "collapsed": false
   },
   "outputs": [],
   "source": []
  },
  {
   "cell_type": "code",
   "execution_count": null,
   "metadata": {
    "collapsed": false
   },
   "outputs": [],
   "source": []
  },
  {
   "cell_type": "markdown",
   "metadata": {
    "collapsed": false
   },
   "source": [
    "## Exercise\n",
    "\n"
   ]
  },
  {
   "attachments": {},
   "cell_type": "markdown",
   "metadata": {
    "collapsed": false
   },
   "source": [
    "### Ex 1\n",
    "สร้างฟังก์ชัน Python ที่แปลงอุณหภูมิจากเซลเซียสเป็นฟาเรนไฮต์\n",
    "\n",
    "#### คำแนะนำ:\n",
    "1. **การกำหนดฟังก์ชัน:**\n",
    "   - กำหนดฟังก์ชันชื่อ `convert_to_fahrenheit` ที่รับพารามิเตอร์ `temp_celsius` (ค่าตัวเลข)\n",
    "\n",
    "2. **โลจิกการแปลง:**\n",
    "   - ฟังก์ชันควรแปลงอุณหภูมิจากเซลเซียสเป็นฟาเรนไฮต์โดยใช้สูตร: \\( F = C \\times \\frac{9}{5} + 32 \\)\n",
    "\n",
    "3. **ค่าที่ส่งกลับ:**\n",
    "   - ฟังก์ชันควรส่งกลับอุณหภูมิในหน่วยฟาเรนไฮต์\n",
    "\n",
    "#### ตัวอย่างการเรียกใช้ฟังก์ชัน:\n",
    "   - `convert_to_fahrenheit(100)` ควรส่งกลับ 212.0\n",
    "   - `convert_to_fahrenheit(0)` ควรส่งกลับ 32.0\n",
    "  \n",
    "#### งานเพิ่มเติม:\n",
    "เขียนกรณีทดสอบเพื่อตรวจสอบว่าฟังก์ชันของคุณทำงานอย่างถูกต้องหรือไม่โดยใช้คำสั่ง `assert` ใน Python\n",
    "\n",
    "\n"
   ]
  },
  {
   "cell_type": "markdown",
   "metadata": {},
   "source": [
    "\n",
    "\n"
   ]
  },
  {
   "cell_type": "code",
   "execution_count": null,
   "metadata": {},
   "outputs": [],
   "source": []
  },
  {
   "cell_type": "code",
   "execution_count": null,
   "metadata": {},
   "outputs": [],
   "source": []
  },
  {
   "cell_type": "markdown",
   "metadata": {
    "collapsed": false
   },
   "source": [
    "### Ex 2\n",
    "\n",
    "สร้างฟังก์ชัน Python ที่คำนวณพื้นที่ของสามเหลี่ยมโดยใช้สูตรพื้นที่สามเหลี่ยม\n",
    "\n",
    "#### คำแนะนำ:\n",
    "1. **การกำหนดฟังก์ชัน:**\n",
    "   - กำหนดฟังก์ชันชื่อ `calculate_triangle_area` ที่รับสองพารามิเตอร์: `base` (ฐานของสามเหลี่ยม) และ `height` (ความสูงของสามเหลี่ยม)\n",
    "\n",
    "2. **โลจิกการคำนวณ:**\n",
    "   - ใช้สูตรการหาพื้นที่สามเหลี่ยม: \\( \\text{Area} = \\frac{1}{2} \\times \\text{base} \\times \\text{height} \\)\n",
    "\n",
    "3. **ค่าที่ส่งกลับ:**\n",
    "   - ฟังก์ชันควรส่งกลับพื้นที่ของสามเหลี่ยม\n",
    "\n",
    "#### ตัวอย่างการเรียกใช้ฟังก์ชัน:\n",
    "   - `calculate_triangle_area(10, 5)` ควรส่งกลับ 25.0\n",
    "   - `calculate_triangle_area(7, 3)` ควรส่งกลับ 10.5\n",
    "\n",
    "#### งานเพิ่มเติม:\n",
    "เขียนกรณีทดสอบเพื่อตรวจสอบว่าฟังก์ชันของคุณทำงานอย่างถูกต้องหรือไม่โดยใช้คำสั่ง `assert` ใน Python\n"
   ]
  },
  {
   "cell_type": "code",
   "execution_count": null,
   "metadata": {
    "collapsed": false
   },
   "outputs": [],
   "source": []
  },
  {
   "cell_type": "code",
   "execution_count": null,
   "metadata": {},
   "outputs": [],
   "source": []
  }
 ],
 "metadata": {
  "kernelspec": {
   "argv": [
    "/usr/bin/python3",
    "-m",
    "ipykernel",
    "--HistoryManager.enabled=False",
    "--matplotlib=inline",
    "-c",
    "%config InlineBackend.figure_formats = set(['retina'])\nimport matplotlib; matplotlib.rcParams['figure.figsize'] = (12, 7)",
    "-f",
    "{connection_file}"
   ],
   "display_name": "Python 3 (system-wide)",
   "env": {},
   "language": "python",
   "metadata": {
    "cocalc": {
     "description": "Python 3 programming language",
     "priority": 100,
     "url": "https://www.python.org/"
    }
   },
   "name": "python3",
   "resource_dir": "/ext/jupyter/kernels/python3"
  },
  "language_info": {
   "codemirror_mode": {
    "name": "ipython",
    "version": 3
   },
   "file_extension": ".py",
   "mimetype": "text/x-python",
   "name": "python",
   "nbconvert_exporter": "python",
   "pygments_lexer": "ipython3",
   "version": "3.11.8"
  },
  "nbgrader": {
   "__altered": false,
   "__hash": 112342439,
   "_root": {
    "entries": [
     [
      "__altered",
      false
     ],
     [
      "__hash",
      497048546
     ],
     [
      "_root",
      {
       "entries": [
        [
         "size",
         6
        ],
        [
         "_root",
         {
          "entries": [
           [
            "size",
            5
           ],
           [
            "_root",
            {
             "entries": [
              [
               "size",
               1
              ],
              [
               "_root",
               {
                "entries": [
                 [
                  "cocalc_minimal_stubs",
                  false
                 ]
                ],
                "ownerID": {}
               }
              ],
              [
               "__hash",
               -335098374
              ],
              [
               "__altered",
               false
              ],
              [
               "cocalc_minimal_stubs",
               false
              ]
             ],
             "ownerID": {}
            }
           ],
           [
            "__ownerID",
            null
           ],
           [
            "__hash",
            1043241747
           ],
           [
            "__altered",
            false
           ],
           [
            "cocalc_minimal_stubs",
            false
           ]
          ],
          "ownerID": {}
         }
        ],
        [
         "__ownerID",
         null
        ],
        [
         "__hash",
         -992900273
        ],
        [
         "__altered",
         false
        ],
        [
         "cocalc_minimal_stubs",
         false
        ]
       ],
       "ownerID": {}
      }
     ],
     [
      "cocalc_minimal_stubs",
      false
     ],
     [
      "size",
      6
     ]
    ],
    "ownerID": {}
   },
   "cocalc_minimal_stubs": false,
   "size": 5
  }
 },
 "nbformat": 4,
 "nbformat_minor": 4
}
