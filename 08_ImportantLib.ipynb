{
 "cells": [
  {
   "cell_type": "markdown",
   "metadata": {},
   "source": [
    "<a href=\"https://colab.research.google.com/github/toche7/BasicPython/blob/main/08_ImportandLib.ipynb\" target=\"_parent\"><img src=\"https://colab.research.google.com/assets/colab-badge.svg\" alt=\"Open In Colab\"/></a>"
   ]
  },
  {
   "cell_type": "markdown",
   "metadata": {
    "_uuid": "ab49cddce0098d90fbb1b447ba93cc3d1f0a683e",
    "collapsed": false,
    "id": "chnKzRbWXkdt"
   },
   "source": [
    "# Lab 08: Important Python Libraries\n",
    "\n",
    "Revised: T. Samanchuen <br>\n",
    "Version: 003\n"
   ]
  },
  {
   "cell_type": "markdown",
   "metadata": {
    "_uuid": "c47475cb7f401b0e4186c19b081871aecac3bfe5",
    "collapsed": true,
    "id": "ovmo_456Xkd6",
    "trusted": true
   },
   "source": [
    "# Numpy\n",
    "\n",
    "## การสร้าง Array\n",
    "\n",
    "ในตัวอย่างข้างล่าง เราจะทดลองสร้าง Numpy array ขึ้นมาอย่างง่ายๆ จาก Python list\n",
    "\n"
   ]
  },
  {
   "cell_type": "code",
   "execution_count": null,
   "metadata": {
    "collapsed": false,
    "id": "0Cp-_qkiXkd7",
    "metadata": {}
   },
   "outputs": [],
   "source": [
    "import numpy as np        # วิธีการที่จะเรียกใช้ numpy library โดยกำหนดชื่อย่อว่า np"
   ]
  },
  {
   "cell_type": "code",
   "execution_count": null,
   "metadata": {
    "collapsed": false,
    "id": "UqvuHYjehDTh",
    "metadata": {}
   },
   "outputs": [],
   "source": [
    "a = np.array([1, 2, 3])   # สร้าง array 1 มิติ (เวกเตอร์) จาก Python list [1, 2, 3]\n"
   ]
  },
  {
   "cell_type": "code",
   "execution_count": null,
   "metadata": {
    "colab": {
     "base_uri": "https://localhost:8080/"
    },
    "collapsed": false,
    "id": "LvE69sdGhErv",
    "metadata": {},
    "outputId": "7bb2cdd1-6a9c-4fc6-a902-8d6f0cabc36e"
   },
   "outputs": [],
   "source": [
    "print(type(a))            # พิมพ์ \"<class 'numpy.ndarray'>\""
   ]
  },
  {
   "cell_type": "code",
   "execution_count": null,
   "metadata": {
    "colab": {
     "base_uri": "https://localhost:8080/"
    },
    "collapsed": false,
    "id": "4_B0n1FBhFeP",
    "metadata": {},
    "outputId": "0a1d977b-fefe-4b78-fa09-06c5bb84cf34"
   },
   "outputs": [],
   "source": [
    "print(a.shape)"
   ]
  },
  {
   "cell_type": "code",
   "execution_count": null,
   "metadata": {
    "colab": {
     "base_uri": "https://localhost:8080/"
    },
    "collapsed": false,
    "id": "TzC-zoVoXkd_",
    "metadata": {},
    "outputId": "1cda479d-7558-4469-fddb-70c7b76e3b36"
   },
   "outputs": [],
   "source": [
    "print(a[0], a[1], a[2])   # พิมพ์ \"1 2 3\"\n"
   ]
  },
  {
   "cell_type": "code",
   "execution_count": null,
   "metadata": {
    "colab": {
     "base_uri": "https://localhost:8080/"
    },
    "collapsed": false,
    "id": "mIAafzCbhbE3",
    "metadata": {},
    "outputId": "ef841ea3-b86d-4197-8cea-7f0a6a581927"
   },
   "outputs": [],
   "source": [
    "a[0] = 5                  # เปลี่ยนค่าใน array\n",
    "print(a)                  # พิมพ์ \"[5, 2, 3]\"\n"
   ]
  },
  {
   "cell_type": "code",
   "execution_count": null,
   "metadata": {
    "_uuid": "51881e01134a350563b84ac9e43aabdb75203b40",
    "colab": {
     "base_uri": "https://localhost:8080/"
    },
    "collapsed": false,
    "id": "s8klNxLiXkeC",
    "metadata": {},
    "outputId": "b3516c93-3d9f-4a2e-8218-0b420f6e93e1",
    "trusted": true
   },
   "outputs": [],
   "source": [
    "b = np.array([[1,2,3],[4,5,6]])    # สร้าง array 2 มิติ (เมตริกซ์)\n",
    "print(b)\n"
   ]
  },
  {
   "cell_type": "code",
   "execution_count": null,
   "metadata": {
    "collapsed": false,
    "id": "Tu5TJ0aWvQKV",
    "metadata": {}
   },
   "outputs": [],
   "source": [
    "c = np.array([[[1],[2],[3]],[[4],[5],[6]]])"
   ]
  },
  {
   "cell_type": "code",
   "execution_count": null,
   "metadata": {
    "colab": {
     "base_uri": "https://localhost:8080/"
    },
    "collapsed": false,
    "id": "8uMocpZkvbY0",
    "metadata": {},
    "outputId": "09ed37af-fab5-43eb-ce58-6c7322b55448"
   },
   "outputs": [],
   "source": [
    "c.shape"
   ]
  },
  {
   "cell_type": "code",
   "execution_count": null,
   "metadata": {
    "colab": {
     "base_uri": "https://localhost:8080/"
    },
    "collapsed": false,
    "id": "z9hSOSsOhid2",
    "metadata": {},
    "outputId": "b993dd90-b9a4-44ca-bf70-45fb7dc131a3"
   },
   "outputs": [],
   "source": [
    "print(b.shape)                     # พิมพ์ \"(2, 3)\" แปลว่าเป็น array 2 มิติ ที่มีความยาวเท่ากับ 2 และ 3 ตามลำดับ\n",
    "                                   # พูดง่ายๆ ว่าเป็นเมตริกซ์ขนาด 2x3 นั่นเอง\n",
    "print(b[0, 0], b[0, 1], b[1, 0])   # พิมพ์ \"1 2 4\""
   ]
  },
  {
   "cell_type": "code",
   "execution_count": null,
   "metadata": {
    "collapsed": false,
    "id": "fxgcIlXWv9mB",
    "metadata": {}
   },
   "outputs": [],
   "source": [
    "d = np.arange(10)"
   ]
  },
  {
   "cell_type": "code",
   "execution_count": null,
   "metadata": {
    "colab": {
     "base_uri": "https://localhost:8080/"
    },
    "collapsed": false,
    "id": "OI-JIt_JwOlW",
    "metadata": {},
    "outputId": "cd5859d8-5fae-45b1-c0c2-0665bbe6faf5"
   },
   "outputs": [],
   "source": [
    "d"
   ]
  },
  {
   "cell_type": "code",
   "execution_count": null,
   "metadata": {
    "colab": {
     "base_uri": "https://localhost:8080/"
    },
    "collapsed": false,
    "id": "Y6TsgxaLwRtr",
    "metadata": {},
    "outputId": "a63242d9-bf36-4cb3-d10e-0bf2bda75710"
   },
   "outputs": [],
   "source": [
    "print(type(d))"
   ]
  },
  {
   "cell_type": "code",
   "execution_count": null,
   "metadata": {
    "_uuid": "df912e2e71ac22b00c6e9c6fdea1a5a0af310618",
    "colab": {
     "base_uri": "https://localhost:8080/"
    },
    "collapsed": false,
    "id": "2UaBH-e-XkeG",
    "metadata": {},
    "outputId": "339882a2-f982-4c0a-8bb8-7eff2e2a1ec5",
    "trusted": true
   },
   "outputs": [],
   "source": [
    "a = np.zeros((2,2))   # สร้าง array 2 มิติขนาด 2x2 ที่มีสมาชิกเป็น 0 ทั้งหมด\n",
    "print(a)              # พิมพ์ \"[[ 0.  0.]\n",
    "                      #        [ 0.  0.]]\""
   ]
  },
  {
   "cell_type": "code",
   "execution_count": null,
   "metadata": {
    "colab": {
     "base_uri": "https://localhost:8080/"
    },
    "collapsed": false,
    "id": "OmLUmj02XkeJ",
    "metadata": {},
    "outputId": "4f88116d-6cb1-4165-fac1-5c3c85851f86"
   },
   "outputs": [],
   "source": [
    "b = np.ones((1,2))    # สร้าง array 2 มิติขนาด 1x2 ที่มีสมาชิกเป็น 1 ทั้งหมด\n",
    "print(b)              # พิมพ์ \"[[ 1.  1.]]\"\n",
    "\n"
   ]
  },
  {
   "cell_type": "code",
   "execution_count": null,
   "metadata": {
    "colab": {
     "base_uri": "https://localhost:8080/"
    },
    "collapsed": false,
    "id": "oMh1uRsDXkeN",
    "metadata": {},
    "outputId": "26b38460-68e4-4360-ea0b-73571d3d635f"
   },
   "outputs": [],
   "source": [
    "c = np.full((2,2), 7)  # สร้าง array 2 มิติขนาด 2x2 ที่มีสมาชิกเป็นค่าคงที่เท่ากับ 7 ทั้งหมด\n",
    "print(c)               # พิมพ์ \"[[ 7.  7.]\n",
    "                       #       [ 7.  7.]]\""
   ]
  },
  {
   "cell_type": "code",
   "execution_count": null,
   "metadata": {
    "colab": {
     "base_uri": "https://localhost:8080/"
    },
    "collapsed": false,
    "id": "1Pd-kj_XXkeW",
    "outputId": "531fb8ab-e769-49ce-a686-e833abf4c125"
   },
   "outputs": [],
   "source": [
    "e = np.random.random((2,2))  # สร้าง array 2 มิติขนาด 2x2 ที่มีสมาชิกเป็นค่าสุ่ม (random numbers) ในช่วง (0,1)\n",
    "print(e)                     # พิมพ์ค่าสุ่มอาทิเช่น \"[[ 0.91940167  0.08143941]\n",
    "                             #               [ 0.68744134  0.87236687]]\""
   ]
  },
  {
   "cell_type": "markdown",
   "metadata": {
    "_uuid": "ca95497307de343069892a4e5264cd0b1236205e",
    "collapsed": false,
    "id": "WwGmImK4XkeZ"
   },
   "source": [
    "## โอเปอร์เรชั่นทางคณิตศาสตร์ของ Array\n",
    "\n",
    "### Element-wise operations\n",
    "### การบวก ลบ คูณ หาร  \"รายตัว\" กรณี Array ทั้งสองมีขนาดเท่ากัน\n",
    "การบวก ลบ คูณ หารในสมาชิกแต่ละตัวของ array สอง array นั่นคือบวก ลบ คูณ หารเฉพาะสมาชิกในตำแหน่งเดียวกัน สามารถทำได้อย่างตรงไปตรงมาในกรณีที่ array ทั้งสองมีขนาดเท่ากัน"
   ]
  },
  {
   "cell_type": "code",
   "execution_count": null,
   "metadata": {
    "_uuid": "5a3c40069fa7f3e3c0923ca7680c1fcffaea7931",
    "colab": {
     "base_uri": "https://localhost:8080/"
    },
    "collapsed": false,
    "id": "DcHwoRjXXkeZ",
    "outputId": "d22b8ee1-4a48-4182-c12f-aaff7bd5bc70",
    "trusted": true
   },
   "outputs": [],
   "source": [
    "x = np.array([[1,2],[3,4]])\n",
    "print(x)"
   ]
  },
  {
   "cell_type": "code",
   "execution_count": null,
   "metadata": {
    "colab": {
     "base_uri": "https://localhost:8080/"
    },
    "collapsed": false,
    "id": "8IzzujGQitSV",
    "outputId": "93230112-681f-4cbe-c483-3b70f06d93e8"
   },
   "outputs": [],
   "source": [
    "y = np.array([[5,6],[7,8]])\n",
    "print(y)"
   ]
  },
  {
   "cell_type": "code",
   "execution_count": null,
   "metadata": {
    "colab": {
     "base_uri": "https://localhost:8080/"
    },
    "collapsed": false,
    "id": "hHK8tIqwiuU9",
    "outputId": "342d9d49-56b0-4152-b22e-87fefef9d13b"
   },
   "outputs": [],
   "source": [
    "print(x + y)"
   ]
  },
  {
   "cell_type": "code",
   "execution_count": null,
   "metadata": {
    "colab": {
     "base_uri": "https://localhost:8080/"
    },
    "collapsed": false,
    "id": "S7VZ-fcGXkec",
    "outputId": "4fee75f6-490c-487b-8b1e-6f3a0317dd1b"
   },
   "outputs": [],
   "source": [
    "print(x - y)"
   ]
  },
  {
   "cell_type": "code",
   "execution_count": null,
   "metadata": {
    "colab": {
     "base_uri": "https://localhost:8080/"
    },
    "collapsed": false,
    "id": "w1cx-_VzXkef",
    "outputId": "df247d7e-2d31-4d5c-c100-c327c99b0238"
   },
   "outputs": [],
   "source": [
    "print(x * y)"
   ]
  },
  {
   "cell_type": "markdown",
   "metadata": {
    "collapsed": false,
    "id": "AQ3ks95kjEBp"
   },
   "source": [
    "ตัวอย่างการหาร เมื่อเลขไม่ลงตัว สมาชิกใน array จะเปลี่ยนเป็นจำนวนจริงโดยอัตโนมัติเหมือนกรณีการหารตัวเลข (ดูหัวข้อบน)\n",
    "\n",
    "```python\n",
    "print(x / y)\n",
    "\n",
    " [[ 0.2         0.33333333]\n",
    " [ 0.42857143  0.5       ]]\n",
    "```\n",
    "\n"
   ]
  },
  {
   "cell_type": "code",
   "execution_count": null,
   "metadata": {
    "colab": {
     "base_uri": "https://localhost:8080/"
    },
    "collapsed": false,
    "id": "x_ZLxCZ1Xkei",
    "outputId": "bb4b9246-33fb-4899-9027-ec4583d96047"
   },
   "outputs": [],
   "source": [
    "print(x / y)"
   ]
  },
  {
   "cell_type": "markdown",
   "metadata": {
    "_uuid": "9ef937a419334d964a728326f649a75383b3b2f0",
    "collapsed": false,
    "id": "r58B3Mw9Xkem"
   },
   "source": [
    "การยกกำลัง และถอดรากในสมาชิกแต่ละตัว ก็ทำได้ตรงไปตรงมาดังตัวอย่าง"
   ]
  },
  {
   "cell_type": "code",
   "execution_count": null,
   "metadata": {
    "_uuid": "15a08becb6025f05162c257721478c2a8a1e0843",
    "colab": {
     "base_uri": "https://localhost:8080/"
    },
    "collapsed": false,
    "id": "bMCWtNnTXkem",
    "outputId": "032cc340-76f6-4624-ad7d-646986d500d4",
    "trusted": true
   },
   "outputs": [],
   "source": [
    "print(x ** 2)\n"
   ]
  },
  {
   "cell_type": "code",
   "execution_count": null,
   "metadata": {
    "colab": {
     "base_uri": "https://localhost:8080/"
    },
    "collapsed": false,
    "id": "T7mGyfmRj7hS",
    "outputId": "80ec43aa-1bb7-4e5d-cef1-9919b1b478a9"
   },
   "outputs": [],
   "source": [
    "r = np.array([[1,2],[3,4]])\n",
    "print(r ** 3)\n"
   ]
  },
  {
   "cell_type": "code",
   "execution_count": null,
   "metadata": {
    "colab": {
     "base_uri": "https://localhost:8080/"
    },
    "collapsed": false,
    "id": "sbb5H6O2j-qE",
    "metadata": {},
    "outputId": "e2ad0fb3-a8bf-4dcb-b926-622ac7c6075f"
   },
   "outputs": [],
   "source": [
    "np.power(r,3)"
   ]
  },
  {
   "cell_type": "markdown",
   "metadata": {
    "collapsed": false,
    "id": "hT1rsUUijd-Q"
   },
   "source": [
    "ถอดรากที่สองมีสองวิธีคือเรียกฟังก์ชั่นของ numpy หรือ ยกกำลังด้วย 1/2"
   ]
  },
  {
   "cell_type": "code",
   "execution_count": null,
   "metadata": {
    "colab": {
     "base_uri": "https://localhost:8080/"
    },
    "collapsed": false,
    "id": "0ASEQwaUi-xk",
    "outputId": "3602be5f-80f5-4a75-e2d0-0bd80a3056fb"
   },
   "outputs": [],
   "source": [
    "print(np.sqrt(x))"
   ]
  },
  {
   "cell_type": "code",
   "execution_count": null,
   "metadata": {
    "colab": {
     "base_uri": "https://localhost:8080/"
    },
    "collapsed": false,
    "id": "ehYGIh_Njbo4",
    "outputId": "4bec3ab0-1973-49fa-895a-3a4ea0f94ee5"
   },
   "outputs": [],
   "source": [
    "print(x ** (1/2))"
   ]
  },
  {
   "cell_type": "markdown",
   "metadata": {
    "collapsed": false,
    "id": "qIo9dHKEXket"
   },
   "source": [
    "#### EX 1\n",
    "\n",
    "หากมีข้อมูลนำเข้าเป็น Array ของรัศมีของลูกโป่งที่บรรจุแก๊ส เช่น $r$ = [2, 3, 4, 5] จงเขียนโปรแกรมเพื่อคำนวณหาปริมาณแก๊ส ทั้งหมดของลูกโป่ง\n",
    "สมมุติว่าลูกโป่งมีลักษณะเป็นทรงกลม โดยปริมาตรของทรงกลมมีสูตรเป็น\n",
    "$$\n",
    "V = \\frac{4}{3}\\pi r^3\n",
    "$$\n",
    "Hint: <br>\n",
    " $\\pi$ ใน Numpy ใช้เป็น np.pi\n",
    "\n"
   ]
  },
  {
   "cell_type": "code",
   "execution_count": null,
   "metadata": {
    "collapsed": false,
    "deletable": false,
    "id": "NBe0iDuDXket",
    "nbgrader": {
     "cell_type": "code",
     "checksum": "5e2206bf7b788f03bb17c5441a8e9bd9",
     "grade": false,
     "grade_id": "a6a626",
     "locked": false,
     "schema_version": 3,
     "solution": true,
     "task": false
    }
   },
   "outputs": [],
   "source": [
    "def Spherical(r):  # modify function name and parameters\n",
    "    \"\"\"\n",
    "    Compute the sum of the Volumn of Spherical.\n",
    "    r : array of radius\n",
    "    \"\"\"\n",
    "    ### BEGIN SOLUTION    \n",
    "    volumn = (r ** 3)*np.pi*4/3\n",
    "    ### END SOLUTION\n",
    "    return [np.sum(volumn)]"
   ]
  },
  {
   "cell_type": "code",
   "execution_count": null,
   "metadata": {
    "collapsed": false,
    "deletable": false,
    "editable": false,
    "id": "hul08FbsXkew",
    "nbgrader": {
     "grade": true,
     "grade_id": "e14f8b",
     "locked": true,
     "points": 1,
     "schema_version": 3,
     "solution": false,
     "task": false
    }
   },
   "outputs": [],
   "source": [
    "# [Modify the tests below for your own problem]\n",
    "# Check that squares returns the correct output for several inputs:\n",
    "from nose.tools import assert_equal\n",
    "assert_equal(Spherical(np.array([1])), [4.1887902047863905])\n",
    "assert_equal(Spherical(np.array([2,3])), [146.60765716752368])"
   ]
  },
  {
   "cell_type": "code",
   "execution_count": null,
   "metadata": {
    "colab": {
     "base_uri": "https://localhost:8080/"
    },
    "collapsed": false,
    "id": "K4u31Ng_Xkey",
    "outputId": "3f8adf23-f1b5-4158-a51d-798c837b5b28"
   },
   "outputs": [],
   "source": [
    "r = np.array([[1,2],[3,4]])\n",
    "Spherical(r)"
   ]
  },
  {
   "cell_type": "markdown",
   "metadata": {
    "_kg_hide-input": true,
    "_kg_hide-output": true,
    "_uuid": "c113d880e5e5ddc6d8c3aececb908cbb404b3296",
    "collapsed": true,
    "id": "tBHaSMUHXkfQ",
    "trusted": true
   },
   "source": [
    "## Array indexing\n",
    "Numpy มีวิธี index array ได้หลายรูปแบบ\n",
    "\n",
    "### Slicing\n",
    "เราสามารถใช้ slicing ได้เช่นเดียวกับ Python list และเลือกใช้บนมิติใดของ array ก็ได้\n",
    "\n",
    "เช่น สร้าง array 2มิติ ที่มีขนาด (3, 4)"
   ]
  },
  {
   "cell_type": "code",
   "execution_count": null,
   "metadata": {
    "colab": {
     "base_uri": "https://localhost:8080/"
    },
    "collapsed": false,
    "id": "FLwiF-tcXkfR",
    "outputId": "f94bb48e-079d-4383-8bdb-cdc4a691df11"
   },
   "outputs": [],
   "source": [
    "a = np.array([[1,2,3,4], [5,6,7,8], [9,10,11,12]])\n",
    "print(a)"
   ]
  },
  {
   "cell_type": "markdown",
   "metadata": {
    "collapsed": false,
    "id": "J4VeXrVplbUt"
   },
   "source": [
    "ใช้ slicing เพื่อดึงสองแถวแรก และคอลัมภ์ที่สองและสาม สังเกตว่า index เริ่มจาก 0 ดังนั้นคอลัมภ์ที่สองและสามจึงมี index 1 และ 2 และอย่าลืมว่าใน syntax ของ Python จะนำ index ตัวสุดท้ายไปลบด้วยหนึ่ง"
   ]
  },
  {
   "cell_type": "code",
   "execution_count": null,
   "metadata": {
    "colab": {
     "base_uri": "https://localhost:8080/"
    },
    "collapsed": false,
    "id": "Z4x7SCW6lI6J",
    "outputId": "48bc421a-65e6-4ec6-cbae-627b1ef5e70c"
   },
   "outputs": [],
   "source": [
    "b = a[:2, 1:3]\n",
    "print(b)"
   ]
  },
  {
   "cell_type": "code",
   "execution_count": null,
   "metadata": {
    "_kg_hide-input": false,
    "_kg_hide-output": false,
    "_uuid": "c1967429f754e4d0111ac3de6f52c029fa082dd8",
    "colab": {
     "base_uri": "https://localhost:8080/"
    },
    "collapsed": false,
    "id": "wI6QIxz5XkfU",
    "outputId": "364217e2-d691-4c8a-cc7b-daca537b5b01",
    "trusted": true
   },
   "outputs": [],
   "source": [
    "s = a.shape\n",
    "print(s)"
   ]
  },
  {
   "cell_type": "code",
   "execution_count": null,
   "metadata": {
    "colab": {
     "base_uri": "https://localhost:8080/"
    },
    "collapsed": false,
    "id": "LMj5_po0lnmB",
    "outputId": "dd24dc6f-afab-4937-833a-fd386f706841"
   },
   "outputs": [],
   "source": [
    "print(s[1])"
   ]
  },
  {
   "cell_type": "code",
   "execution_count": null,
   "metadata": {
    "colab": {
     "base_uri": "https://localhost:8080/"
    },
    "collapsed": false,
    "id": "Donv_EDmloVI",
    "outputId": "a54cc9c2-bd90-4b3c-a30a-f66b3a668274"
   },
   "outputs": [],
   "source": [
    "print(s[0])"
   ]
  },
  {
   "cell_type": "markdown",
   "metadata": {
    "collapsed": false,
    "id": "khVrUZ3cltaJ"
   },
   "source": [
    "นอกจากนี้ b ยังเสมือนเป็น pointer ที่ชี้ไปยังข้อมูลชุดเดียวกับ a ดังนั้นถ้าเปลี่ยนค่าใน b ซึ่งเป็น slice ของ a ข้อมูลใน a ก็จะเปลี่ยนด้วย"
   ]
  },
  {
   "cell_type": "code",
   "execution_count": null,
   "metadata": {
    "colab": {
     "base_uri": "https://localhost:8080/"
    },
    "collapsed": false,
    "id": "F5mDRArTXkfW",
    "outputId": "619fd0c8-e605-471e-cf65-402e60ee9619"
   },
   "outputs": [],
   "source": [
    "print(a[0, 1])   # พิมพ์ \"2\"\n",
    "b[0, 0] = 77     # b[0, 0] is the same piece of data as a[0, 1]\n",
    "print(a[0, 1])   # พิมพ์ \"77\""
   ]
  },
  {
   "cell_type": "code",
   "execution_count": null,
   "metadata": {
    "colab": {
     "base_uri": "https://localhost:8080/"
    },
    "collapsed": false,
    "id": "eRg-HMlRXkfa",
    "outputId": "68da2a4a-a247-479e-87ee-9ef8546f928a"
   },
   "outputs": [],
   "source": [
    "a = np.array([[1,2,3,4], [5,6,7,8], [9,10,11,12]])\n",
    "print(a)"
   ]
  },
  {
   "cell_type": "markdown",
   "metadata": {
    "collapsed": false,
    "id": "w2-1WwMimrQO"
   },
   "source": [
    "สังเกตว่าการ index แถวที่สองทำได้สองวิธีคือ ใช้ index 1 หรือใช้ slicing 1:2 ซึ่งใน syntax ของ python จะให้ผลลัพธ์ที่ **แตกต่างกัน**\n",
    "\n",
    "การใช้ index เป็นเพียงตัวเลข เช่น 1 จะลดมิติของ array ลง 1 มิติ (ดูตัวอย่างข้างล่าง)\n",
    "ในขณะที่การใช้ slicing index เช่น 1:2 เราจะได้ผลลัพธ์เป็น array ที่มีมิติเท่าเดิม"
   ]
  },
  {
   "cell_type": "code",
   "execution_count": null,
   "metadata": {
    "_kg_hide-input": false,
    "_kg_hide-output": false,
    "_uuid": "65cc29cba0451b49e5daf110a95d8572e9642769",
    "colab": {
     "base_uri": "https://localhost:8080/"
    },
    "collapsed": false,
    "id": "I3Y_uQW8Xkfe",
    "outputId": "0310dea3-1a7d-4777-b436-039f776db293",
    "trusted": true
   },
   "outputs": [],
   "source": [
    "row_r1 = a[1, :]    # ผลลัพธ์คือ array 1 มิติ\n",
    "row_r2 = a[1:2, :]  # ผลลัพธ์คือ array 2 มิติ\n",
    "print(row_r1, row_r1.shape)  # พิมพ์ \"[5 6 7 8] (4,)\"\n",
    "print(row_r2, row_r2.shape)  #พิมพ์ \"[[5 6 7 8]] (1, 4)\"\n"
   ]
  },
  {
   "cell_type": "markdown",
   "metadata": {
    "collapsed": false,
    "id": "Kt7bq0VwXkfh"
   },
   "source": [
    "#### EX 2\n",
    "\n",
    "หากมีข้อมูลที่เป็น array 2 มิติ จงเขียนโปรแกรมที่สามารถตัดเอาเฉพาะข้อมูล 2 Column สุดท้ายของ Array เพื่อนำไปใช้ต่อ\n",
    "\n"
   ]
  },
  {
   "cell_type": "code",
   "execution_count": null,
   "metadata": {
    "collapsed": false,
    "deletable": false,
    "id": "f_tJYhlMXkfh",
    "nbgrader": {
     "cell_type": "code",
     "checksum": "8a1ebfcad174461ff819a5d60c8e1a33",
     "grade": false,
     "grade_id": "ab1671",
     "locked": false,
     "schema_version": 3,
     "solution": true,
     "task": false
    }
   },
   "outputs": [],
   "source": [
    "def slicerLastTwoColumn(a):  # modify function name and parameters\n",
    "    \"\"\"\n",
    "    Compute the squares of the numbers from 1 to n.  [replace with function description]\n",
    "    \"\"\"\n",
    "    s = a.shape\n",
    "    if s[1] < 3: raise ValueError(\"n must be at least 3\")\n",
    "    ### BEGIN SOLUTION\n",
    "    #raise NotImplementedError()\n",
    "    b = a[:, (s[1] - 2): s[1]]\n",
    "    ### END SOLUTION\n",
    "    return b"
   ]
  },
  {
   "cell_type": "code",
   "execution_count": null,
   "metadata": {
    "collapsed": false,
    "deletable": false,
    "editable": false,
    "id": "T-Iqw9VfXkfk",
    "nbgrader": {
     "grade": true,
     "grade_id": "32ca09",
     "locked": true,
     "points": 1,
     "schema_version": 3,
     "solution": false,
     "task": false
    }
   },
   "outputs": [],
   "source": [
    "a = np.array([[1,2,3,4], [5,6,7,8], [9,10,11,12]])\n",
    "b = np.array([[1,2,3], [5,6,7], [9,10,11]])\n",
    "\n",
    "# [Modify the tests below for your own problem]\n",
    "# Check that squares returns the correct output for several inputs:\n",
    "# from nose.tools import assert_array_equal\n",
    "np.testing.assert_array_equal(slicerLastTwoColumn(a), np.array([[3,  4],[7,  8],[11, 12]]))\n",
    "np.testing.assert_array_equal(slicerLastTwoColumn(b), np.array([[2,  3],[6,  7],[10, 11]]))"
   ]
  },
  {
   "cell_type": "markdown",
   "metadata": {
    "_uuid": "fc41c1fa4e116589ee365095aecd640701536612",
    "collapsed": true,
    "id": "DKyAI1EUXkfr",
    "trusted": true
   },
   "source": [
    "# Matplotlib\n",
    "Matplotlib เป็นไลบรารีสำหรับการพล็อดและจัดการรูปภาพ ซึ่งมีการใช้งานคล้ายกับบน MATLAB.\n",
    "\n",
    "\n",
    "## Plotting\n",
    "ตัวอย่งการพล็อดกราฟสองมิติ"
   ]
  },
  {
   "cell_type": "code",
   "execution_count": null,
   "metadata": {
    "_uuid": "0ea97e8d1c1e26f63760933ee7012dc046973cae",
    "collapsed": false,
    "id": "LTEG7kWbXkfr",
    "metadata": {},
    "trusted": true
   },
   "outputs": [],
   "source": [
    "import numpy as np\n",
    "import matplotlib.pyplot as plt\n"
   ]
  },
  {
   "cell_type": "code",
   "execution_count": null,
   "metadata": {
    "collapsed": false,
    "id": "oeiqWOgWDNDD",
    "metadata": {}
   },
   "outputs": [],
   "source": [
    "# สร้าง x ให้เป็น array ของตัวเลขตั้งแต่ 0 ไปจนถึง 3pi โดยแต่ละจุดห่างกันเท่ากับ 0.1\n",
    "x = np.arange(0, 6 * np.pi, 0.1)\n",
    "# กำหนด y ให้เป็น array มีค่าเท่ากับไซน์ของ x ในแต่ละจุดซึ่งเรียกโดยใช้ฟังก์ชัน np.sin\n",
    "y = np.sin(x)\n"
   ]
  },
  {
   "cell_type": "code",
   "execution_count": null,
   "metadata": {
    "colab": {
     "base_uri": "https://localhost:8080/",
     "height": 430
    },
    "collapsed": false,
    "id": "1EnCbW-EDQkG",
    "metadata": {},
    "outputId": "42429f4e-e8f9-4fc1-dc59-5e2b4f22675d"
   },
   "outputs": [],
   "source": [
    "# ระบุว่าเราต้องการพล็อดกราฟของ x และ y\n",
    "plt.plot(x, y)\n",
    "plt.show()  # เมื่อระบุสิ่งที่เราต้องการพล็อตครบแล้ว สามารถแสดงผลการพล็อตได้ด้วยคำสั่ง plt.show()"
   ]
  },
  {
   "cell_type": "markdown",
   "metadata": {
    "_uuid": "5c92da52af9a471c20d90284a3dfcb378f132b37",
    "collapsed": false,
    "id": "hnAY_sCjXkfu"
   },
   "source": [
    "จากโค้ดในเซลล์ที่แล้ว เราสามารถเพิ่มชื่อกราฟ, คำอธิบาย และชื่อแกนได้ง่ายๆ"
   ]
  },
  {
   "cell_type": "code",
   "execution_count": null,
   "metadata": {
    "_uuid": "e332d73fd2bb256820ae4b8af1f0da2229b855e2",
    "colab": {
     "base_uri": "https://localhost:8080/",
     "height": 472
    },
    "collapsed": false,
    "id": "H-6RelSmXkfu",
    "metadata": {},
    "outputId": "eeffe9ee-3b30-44b6-879e-211a9a44e67a",
    "trusted": true
   },
   "outputs": [],
   "source": [
    "import numpy as np\n",
    "import matplotlib.pyplot as plt\n",
    "\n",
    "# สร้างกราฟทั้งไซน์และโคไซน์ของ x\n",
    "x = np.arange(0, 3 * np.pi, 0.1)\n",
    "y_sin = np.sin(x)\n",
    "y_cos = np.cos(x)\n",
    "\n",
    "# สั่งให้พล็อตทั้งสองกราฟพร้อมกัน\n",
    "plt.plot(x, y_sin)\n",
    "plt.plot(x, y_cos)\n",
    "plt.xlabel('x axis label') # กำหนดชื่อบนแกน x\n",
    "plt.ylabel('y axis label') # กำหนดชื่อบนแกน y\n",
    "plt.title('Sine and Cosine') # กำหนดชื่อไตเติ้ล\n",
    "plt.legend(['Sine', 'Cosine']) # กำหนดลาเบลของกราฟแต่ละเส้น (ตามลำดับคำสั่ง plt.plot)\n",
    "plt.show() # เมื่อระบุสิ่งที่เราต้องการพล็อตครบแล้ว สามารถแสดงผลการพล็อตได้ด้วยคำสั่ง plt.show()"
   ]
  },
  {
   "cell_type": "markdown",
   "metadata": {
    "_uuid": "1eab06f52524958cc98b202eaf2ebcae0b4b023c",
    "collapsed": false,
    "id": "JkU8VqnNXkfx"
   },
   "source": [
    "## Subplot\n",
    "เราสามารถแบ่งรูปภาพเป็นหลายส่วน และพล็อตแต่ละกราฟในแต่ละส่วนย่อยได้ด้วยฟังก์ชัน `supplot`\n",
    "\n",
    "https://matplotlib.org/stable/gallery/subplots_axes_and_figures/subplots_demo.html\n",
    "\n",
    "การใช้คำสั่ง Subplot สามารถแบ่งได้สองลักษณะใหญ่ๆ คือ ส่ง plot ผ่านคำสั่ง class plt  และอีกวิธีหนึ่งก็คือสร้างเป็น object ขึ้นมาก่อนแล้วจึงจะสั่งผ่าน object อีกที\n",
    "\n"
   ]
  },
  {
   "cell_type": "markdown",
   "metadata": {
    "collapsed": false
   },
   "source": [
    "### สั่ง plot ผ่าน object ax\n",
    "จริงๆ สามารถตั้งชื่อ  object เป็นอย่างอื่นได้ แต่เพื่อเป็นมาตรฐานจึงจะใช้เช่นเดียวกับที่ใช้กันโดยทั่วไป มีวิธีการดำเนินการดังนี้\n",
    "1. ประกาศ object  fig, ax = plot.subplot(x,y)  โดย x และ  y  เป็นขนาด เมตริก  ของ subplot ถ้าไม่ระบุก็จะมีขนาดเป็น 1 \n",
    "2. สั่ง plot ผ่าน  ax.plot()\n",
    "3. ตั้งชื่อผ่าน ax.set_title()\n"
   ]
  },
  {
   "cell_type": "code",
   "execution_count": null,
   "metadata": {
    "_uuid": "998936104ca7a23512ec58cd42b8d98e26b85ac8",
    "colab": {
     "base_uri": "https://localhost:8080/",
     "height": 469
    },
    "collapsed": false,
    "id": "1LvL0cQ8Xkfx",
    "metadata": {},
    "outputId": "41d8c4da-0252-4999-f3ad-49989b810076",
    "trusted": true
   },
   "outputs": [],
   "source": [
    "import numpy as np\n",
    "import matplotlib.pyplot as plt\n",
    "\n",
    "# เตรียมข้อมูลเหมือนในตัวอย่างที่แล้ว\n",
    "x = np.arange(0, 3 * np.pi, 0.1)\n",
    "y_sin = np.sin(x)\n",
    "y_cos = np.cos(x)\n",
    "\n",
    "fig, ax = plt.subplots()  # fig จะเป็น object แบบ global และ ax จะเป็น object ในแนวแกน \n",
    "ax.plot(x, y_sin)\n",
    "ax.set_title('A single plot')"
   ]
  },
  {
   "cell_type": "markdown",
   "metadata": {
    "collapsed": false
   },
   "source": []
  },
  {
   "cell_type": "code",
   "execution_count": null,
   "metadata": {
    "colab": {
     "base_uri": "https://localhost:8080/",
     "height": 508
    },
    "collapsed": false,
    "id": "mu2BnYypRxG7",
    "metadata": {},
    "outputId": "82156fa5-63e8-4d37-c296-2a6e7622996b"
   },
   "outputs": [],
   "source": [
    "import matplotlib.pyplot as plt\n",
    "import numpy as np\n",
    "\n",
    "# Create a Figure with 2 rows and 2 columns of subplots:\n",
    "fig, ax = plt.subplots(2, 2, constrained_layout = True)\n",
    "#fig.tight_layout(pad=2.0)\n",
    "\n",
    "x = np.linspace(0, 5, 100)\n",
    "\n",
    "# Index 4 Axes arrays in 4 subplots within 1 Figure:\n",
    "\n",
    "ax[0, 0].plot(x, np.sin(x), 'g') #row=0, column=0\n",
    "ax[0, 0].set_xlabel('x1')\n",
    "ax[0, 0].set_ylabel('y1')\n",
    "ax[0, 0].set_title('Ax[0,0]')\n",
    "\n",
    "ax[1, 0].plot(range(100), 'b') #row=1, column=0\n",
    "ax[1, 0].set_xlabel('x1')\n",
    "ax[1, 0].set_ylabel('y1')\n",
    "ax[1, 0].set_title('Ax[1,0]')\n",
    "\n",
    "ax[0, 1].plot(x, np.cos(x), 'r') #row=0, column=1\n",
    "ax[0, 1].set_xlabel('x1')\n",
    "ax[0, 1].set_ylabel('y1')\n",
    "ax[0, 1].set_title('Ax[0,1]')\n",
    "\n",
    "ax[1, 1].plot(x, np.tan(x), 'k') #row=1, column=1\n",
    "ax[1, 1].set_xlabel('x1')\n",
    "ax[1, 1].set_ylabel('y1')\n",
    "ax[1, 1].set_title('Ax[1,1]')\n",
    "\n",
    "\n",
    "\n",
    "plt.show()"
   ]
  },
  {
   "cell_type": "markdown",
   "metadata": {
    "_uuid": "38732c63efb3ee6f37a428c253b0e61892e8a1fa",
    "collapsed": true,
    "id": "Kx_v7_s7Xkfz",
    "trusted": true
   },
   "source": [
    "#### EX 3\n",
    "\n",
    "จงวาดกราฟของ ฟังก์ชัน $ y = x^2 + 2x + 1$\n",
    "\n"
   ]
  },
  {
   "cell_type": "code",
   "execution_count": null,
   "metadata": {
    "_uuid": "5028ef228e4c0d99bd2a9d60bfb976553b24df65",
    "colab": {
     "base_uri": "https://localhost:8080/",
     "height": 313
    },
    "collapsed": false,
    "deletable": false,
    "id": "c4NEeZOzXkf0",
    "metadata": {},
    "nbgrader": {
     "cell_type": "code",
     "checksum": "874442110e024dfe22804ae1d02c759f",
     "grade": true,
     "grade_id": "26d95c",
     "locked": false,
     "points": 1,
     "schema_version": 3,
     "solution": true,
     "task": false
    },
    "outputId": "ec2ee753-6212-4edb-9991-7b9ebc8b95a7",
    "trusted": true
   },
   "outputs": [],
   "source": [
    "##  YOUR ANSWER HERE\n",
    "\n",
    "# YOUR CODE HERE\n",
    "### BEGIN SOLUTION\n",
    "import numpy as np\n",
    "import matplotlib.pyplot as plt\n",
    "\n",
    "fig, ax = plt.subplots(constrained_layout=True)\n",
    "# เตรียมข้อมูลเหมือนในตัวอย่างที่แล้ว\n",
    "x = np.arange(-5, 5, 0.1)\n",
    "y = x**2 + 2*x + 1\n",
    "ax.plot(x, y)\n",
    "ax.set_xlabel('x')\n",
    "ax.set_ylabel('y')\n",
    "ax.set_title('My Function')\n",
    "plt.legend(['$X^2$'])\n",
    "plt.show()\n",
    "### END SOLUTION\n"
   ]
  },
  {
   "cell_type": "markdown",
   "metadata": {
    "collapsed": false,
    "id": "9iiW2T-BgAK-"
   },
   "source": []
  }
 ],
 "metadata": {
  "colab": {
   "provenance": []
  },
  "kernelspec": {
   "argv": [
    "/usr/bin/python3",
    "-m",
    "ipykernel",
    "--HistoryManager.enabled=False",
    "--matplotlib=inline",
    "-c",
    "%config InlineBackend.figure_formats = set(['retina'])\nimport matplotlib; matplotlib.rcParams['figure.figsize'] = (12, 7)",
    "-f",
    "{connection_file}"
   ],
   "display_name": "Python 3 (system-wide)",
   "env": {},
   "language": "python",
   "metadata": {
    "cocalc": {
     "description": "Python 3 programming language",
     "priority": 100,
     "url": "https://www.python.org/"
    }
   },
   "name": "python3",
   "resource_dir": "/ext/jupyter/kernels/python3"
  },
  "language_info": {
   "codemirror_mode": {
    "name": "ipython",
    "version": 3
   },
   "file_extension": ".py",
   "mimetype": "text/x-python",
   "name": "python",
   "nbconvert_exporter": "python",
   "pygments_lexer": "ipython3",
   "version": "3.11.8"
  },
  "nbgrader": {
   "__altered": false,
   "__hash": -576806701,
   "_root": {
    "entries": [
     [
      "size",
      5
     ],
     [
      "_root",
      {
       "entries": [
        [
         "__altered",
         false
        ],
        [
         "__hash",
         316759843
        ],
        [
         "_root",
         {
          "entries": [
           [
            "size",
            5
           ],
           [
            "_root",
            {
             "entries": [
              [
               "size",
               5
              ],
              [
               "_root",
               {
                "entries": [
                 [
                  "size",
                  5
                 ],
                 [
                  "_root",
                  {
                   "entries": [
                    [
                     "size",
                     5
                    ],
                    [
                     "_root",
                     {
                      "entries": [
                       [
                        "size",
                        1
                       ],
                       [
                        "_root",
                        {
                         "entries": [
                          [
                           "cocalc_minimal_stubs",
                           false
                          ]
                         ],
                         "ownerID": {}
                        }
                       ],
                       [
                        "__hash",
                        -335098374
                       ],
                       [
                        "__altered",
                        false
                       ],
                       [
                        "cocalc_minimal_stubs",
                        false
                       ]
                      ],
                      "ownerID": {}
                     }
                    ],
                    [
                     "__hash",
                     1043241747
                    ],
                    [
                     "__altered",
                     false
                    ],
                    [
                     "cocalc_minimal_stubs",
                     false
                    ]
                   ],
                   "ownerID": {}
                  }
                 ],
                 [
                  "__hash",
                  -3618366
                 ],
                 [
                  "__altered",
                  false
                 ],
                 [
                  "cocalc_minimal_stubs",
                  false
                 ]
                ],
                "ownerID": {}
               }
              ],
              [
               "__hash",
               229782201
              ],
              [
               "__altered",
               false
              ],
              [
               "cocalc_minimal_stubs",
               false
              ]
             ],
             "ownerID": {}
            }
           ],
           [
            "__hash",
            168019484
           ],
           [
            "__altered",
            false
           ],
           [
            "cocalc_minimal_stubs",
            false
           ]
          ],
          "ownerID": {}
         }
        ],
        [
         "cocalc_minimal_stubs",
         false
        ],
        [
         "size",
         5
        ]
       ],
       "ownerID": {}
      }
     ],
     [
      "__hash",
      1003418645
     ],
     [
      "__altered",
      false
     ],
     [
      "cocalc_minimal_stubs",
      false
     ]
    ],
    "ownerID": {}
   },
   "cocalc_minimal_stubs": false,
   "size": 5
  }
 },
 "nbformat": 4,
 "nbformat_minor": 4
}
